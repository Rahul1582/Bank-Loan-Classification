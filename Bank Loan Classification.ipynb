{
 "cells": [
  {
   "cell_type": "code",
   "execution_count": 1,
   "metadata": {},
   "outputs": [],
   "source": [
    "import numpy as np\n",
    "import pandas as pd\n",
    "import matplotlib.pyplot as plt\n",
    "import seaborn as sns"
   ]
  },
  {
   "cell_type": "code",
   "execution_count": 2,
   "metadata": {},
   "outputs": [],
   "source": [
    "from sklearn.metrics import roc_curve"
   ]
  },
  {
   "cell_type": "code",
   "execution_count": 3,
   "metadata": {},
   "outputs": [],
   "source": [
    "from sklearn.metrics import auc"
   ]
  },
  {
   "cell_type": "code",
   "execution_count": 4,
   "metadata": {},
   "outputs": [],
   "source": [
    "df =pd.read_csv(\"UniversalBank.csv\")"
   ]
  },
  {
   "cell_type": "code",
   "execution_count": 5,
   "metadata": {},
   "outputs": [
    {
     "data": {
      "text/html": [
       "<div>\n",
       "<style scoped>\n",
       "    .dataframe tbody tr th:only-of-type {\n",
       "        vertical-align: middle;\n",
       "    }\n",
       "\n",
       "    .dataframe tbody tr th {\n",
       "        vertical-align: top;\n",
       "    }\n",
       "\n",
       "    .dataframe thead th {\n",
       "        text-align: right;\n",
       "    }\n",
       "</style>\n",
       "<table border=\"1\" class=\"dataframe\">\n",
       "  <thead>\n",
       "    <tr style=\"text-align: right;\">\n",
       "      <th></th>\n",
       "      <th>ID</th>\n",
       "      <th>Age</th>\n",
       "      <th>Experience</th>\n",
       "      <th>Income</th>\n",
       "      <th>ZIP Code</th>\n",
       "      <th>Family</th>\n",
       "      <th>CCAvg</th>\n",
       "      <th>Education</th>\n",
       "      <th>Mortgage</th>\n",
       "      <th>Personal Loan</th>\n",
       "      <th>Securities Account</th>\n",
       "      <th>CD Account</th>\n",
       "      <th>Online</th>\n",
       "      <th>CreditCard</th>\n",
       "    </tr>\n",
       "  </thead>\n",
       "  <tbody>\n",
       "    <tr>\n",
       "      <td>0</td>\n",
       "      <td>1</td>\n",
       "      <td>25</td>\n",
       "      <td>1</td>\n",
       "      <td>49</td>\n",
       "      <td>91107</td>\n",
       "      <td>4</td>\n",
       "      <td>1.6</td>\n",
       "      <td>1</td>\n",
       "      <td>0</td>\n",
       "      <td>0</td>\n",
       "      <td>1</td>\n",
       "      <td>0</td>\n",
       "      <td>0</td>\n",
       "      <td>0</td>\n",
       "    </tr>\n",
       "    <tr>\n",
       "      <td>1</td>\n",
       "      <td>2</td>\n",
       "      <td>45</td>\n",
       "      <td>19</td>\n",
       "      <td>34</td>\n",
       "      <td>90089</td>\n",
       "      <td>3</td>\n",
       "      <td>1.5</td>\n",
       "      <td>1</td>\n",
       "      <td>0</td>\n",
       "      <td>0</td>\n",
       "      <td>1</td>\n",
       "      <td>0</td>\n",
       "      <td>0</td>\n",
       "      <td>0</td>\n",
       "    </tr>\n",
       "    <tr>\n",
       "      <td>2</td>\n",
       "      <td>3</td>\n",
       "      <td>39</td>\n",
       "      <td>15</td>\n",
       "      <td>11</td>\n",
       "      <td>94720</td>\n",
       "      <td>1</td>\n",
       "      <td>1.0</td>\n",
       "      <td>1</td>\n",
       "      <td>0</td>\n",
       "      <td>0</td>\n",
       "      <td>0</td>\n",
       "      <td>0</td>\n",
       "      <td>0</td>\n",
       "      <td>0</td>\n",
       "    </tr>\n",
       "    <tr>\n",
       "      <td>3</td>\n",
       "      <td>4</td>\n",
       "      <td>35</td>\n",
       "      <td>9</td>\n",
       "      <td>100</td>\n",
       "      <td>94112</td>\n",
       "      <td>1</td>\n",
       "      <td>2.7</td>\n",
       "      <td>2</td>\n",
       "      <td>0</td>\n",
       "      <td>0</td>\n",
       "      <td>0</td>\n",
       "      <td>0</td>\n",
       "      <td>0</td>\n",
       "      <td>0</td>\n",
       "    </tr>\n",
       "    <tr>\n",
       "      <td>4</td>\n",
       "      <td>5</td>\n",
       "      <td>35</td>\n",
       "      <td>8</td>\n",
       "      <td>45</td>\n",
       "      <td>91330</td>\n",
       "      <td>4</td>\n",
       "      <td>1.0</td>\n",
       "      <td>2</td>\n",
       "      <td>0</td>\n",
       "      <td>0</td>\n",
       "      <td>0</td>\n",
       "      <td>0</td>\n",
       "      <td>0</td>\n",
       "      <td>1</td>\n",
       "    </tr>\n",
       "    <tr>\n",
       "      <td>5</td>\n",
       "      <td>6</td>\n",
       "      <td>37</td>\n",
       "      <td>13</td>\n",
       "      <td>29</td>\n",
       "      <td>92121</td>\n",
       "      <td>4</td>\n",
       "      <td>0.4</td>\n",
       "      <td>2</td>\n",
       "      <td>155</td>\n",
       "      <td>0</td>\n",
       "      <td>0</td>\n",
       "      <td>0</td>\n",
       "      <td>1</td>\n",
       "      <td>0</td>\n",
       "    </tr>\n",
       "    <tr>\n",
       "      <td>6</td>\n",
       "      <td>7</td>\n",
       "      <td>53</td>\n",
       "      <td>27</td>\n",
       "      <td>72</td>\n",
       "      <td>91711</td>\n",
       "      <td>2</td>\n",
       "      <td>1.5</td>\n",
       "      <td>2</td>\n",
       "      <td>0</td>\n",
       "      <td>0</td>\n",
       "      <td>0</td>\n",
       "      <td>0</td>\n",
       "      <td>1</td>\n",
       "      <td>0</td>\n",
       "    </tr>\n",
       "    <tr>\n",
       "      <td>7</td>\n",
       "      <td>8</td>\n",
       "      <td>50</td>\n",
       "      <td>24</td>\n",
       "      <td>22</td>\n",
       "      <td>93943</td>\n",
       "      <td>1</td>\n",
       "      <td>0.3</td>\n",
       "      <td>3</td>\n",
       "      <td>0</td>\n",
       "      <td>0</td>\n",
       "      <td>0</td>\n",
       "      <td>0</td>\n",
       "      <td>0</td>\n",
       "      <td>1</td>\n",
       "    </tr>\n",
       "    <tr>\n",
       "      <td>8</td>\n",
       "      <td>9</td>\n",
       "      <td>35</td>\n",
       "      <td>10</td>\n",
       "      <td>81</td>\n",
       "      <td>90089</td>\n",
       "      <td>3</td>\n",
       "      <td>0.6</td>\n",
       "      <td>2</td>\n",
       "      <td>104</td>\n",
       "      <td>0</td>\n",
       "      <td>0</td>\n",
       "      <td>0</td>\n",
       "      <td>1</td>\n",
       "      <td>0</td>\n",
       "    </tr>\n",
       "  </tbody>\n",
       "</table>\n",
       "</div>"
      ],
      "text/plain": [
       "   ID  Age  Experience  Income  ZIP Code  Family  CCAvg  Education  Mortgage  \\\n",
       "0   1   25           1      49     91107       4    1.6          1         0   \n",
       "1   2   45          19      34     90089       3    1.5          1         0   \n",
       "2   3   39          15      11     94720       1    1.0          1         0   \n",
       "3   4   35           9     100     94112       1    2.7          2         0   \n",
       "4   5   35           8      45     91330       4    1.0          2         0   \n",
       "5   6   37          13      29     92121       4    0.4          2       155   \n",
       "6   7   53          27      72     91711       2    1.5          2         0   \n",
       "7   8   50          24      22     93943       1    0.3          3         0   \n",
       "8   9   35          10      81     90089       3    0.6          2       104   \n",
       "\n",
       "   Personal Loan  Securities Account  CD Account  Online  CreditCard  \n",
       "0              0                   1           0       0           0  \n",
       "1              0                   1           0       0           0  \n",
       "2              0                   0           0       0           0  \n",
       "3              0                   0           0       0           0  \n",
       "4              0                   0           0       0           1  \n",
       "5              0                   0           0       1           0  \n",
       "6              0                   0           0       1           0  \n",
       "7              0                   0           0       0           1  \n",
       "8              0                   0           0       1           0  "
      ]
     },
     "execution_count": 5,
     "metadata": {},
     "output_type": "execute_result"
    }
   ],
   "source": [
    "df.head(9)"
   ]
  },
  {
   "cell_type": "code",
   "execution_count": 6,
   "metadata": {},
   "outputs": [
    {
     "data": {
      "text/plain": [
       "ID                    0\n",
       "Age                   0\n",
       "Experience            0\n",
       "Income                0\n",
       "ZIP Code              0\n",
       "Family                0\n",
       "CCAvg                 0\n",
       "Education             0\n",
       "Mortgage              0\n",
       "Personal Loan         0\n",
       "Securities Account    0\n",
       "CD Account            0\n",
       "Online                0\n",
       "CreditCard            0\n",
       "dtype: int64"
      ]
     },
     "execution_count": 6,
     "metadata": {},
     "output_type": "execute_result"
    }
   ],
   "source": [
    "df.isnull().sum()"
   ]
  },
  {
   "cell_type": "code",
   "execution_count": 7,
   "metadata": {},
   "outputs": [],
   "source": [
    "#no null values"
   ]
  },
  {
   "cell_type": "code",
   "execution_count": 8,
   "metadata": {},
   "outputs": [],
   "source": [
    "#Now deleting the columns which are not required"
   ]
  },
  {
   "cell_type": "code",
   "execution_count": 9,
   "metadata": {},
   "outputs": [
    {
     "data": {
      "text/html": [
       "<div>\n",
       "<style scoped>\n",
       "    .dataframe tbody tr th:only-of-type {\n",
       "        vertical-align: middle;\n",
       "    }\n",
       "\n",
       "    .dataframe tbody tr th {\n",
       "        vertical-align: top;\n",
       "    }\n",
       "\n",
       "    .dataframe thead th {\n",
       "        text-align: right;\n",
       "    }\n",
       "</style>\n",
       "<table border=\"1\" class=\"dataframe\">\n",
       "  <thead>\n",
       "    <tr style=\"text-align: right;\">\n",
       "      <th></th>\n",
       "      <th>Age</th>\n",
       "      <th>Experience</th>\n",
       "      <th>Income</th>\n",
       "      <th>Family</th>\n",
       "      <th>CCAvg</th>\n",
       "      <th>Education</th>\n",
       "      <th>Mortgage</th>\n",
       "      <th>Personal Loan</th>\n",
       "      <th>Securities Account</th>\n",
       "      <th>CD Account</th>\n",
       "      <th>Online</th>\n",
       "      <th>CreditCard</th>\n",
       "    </tr>\n",
       "  </thead>\n",
       "  <tbody>\n",
       "    <tr>\n",
       "      <td>0</td>\n",
       "      <td>25</td>\n",
       "      <td>1</td>\n",
       "      <td>49</td>\n",
       "      <td>4</td>\n",
       "      <td>1.6</td>\n",
       "      <td>1</td>\n",
       "      <td>0</td>\n",
       "      <td>0</td>\n",
       "      <td>1</td>\n",
       "      <td>0</td>\n",
       "      <td>0</td>\n",
       "      <td>0</td>\n",
       "    </tr>\n",
       "    <tr>\n",
       "      <td>1</td>\n",
       "      <td>45</td>\n",
       "      <td>19</td>\n",
       "      <td>34</td>\n",
       "      <td>3</td>\n",
       "      <td>1.5</td>\n",
       "      <td>1</td>\n",
       "      <td>0</td>\n",
       "      <td>0</td>\n",
       "      <td>1</td>\n",
       "      <td>0</td>\n",
       "      <td>0</td>\n",
       "      <td>0</td>\n",
       "    </tr>\n",
       "    <tr>\n",
       "      <td>2</td>\n",
       "      <td>39</td>\n",
       "      <td>15</td>\n",
       "      <td>11</td>\n",
       "      <td>1</td>\n",
       "      <td>1.0</td>\n",
       "      <td>1</td>\n",
       "      <td>0</td>\n",
       "      <td>0</td>\n",
       "      <td>0</td>\n",
       "      <td>0</td>\n",
       "      <td>0</td>\n",
       "      <td>0</td>\n",
       "    </tr>\n",
       "    <tr>\n",
       "      <td>3</td>\n",
       "      <td>35</td>\n",
       "      <td>9</td>\n",
       "      <td>100</td>\n",
       "      <td>1</td>\n",
       "      <td>2.7</td>\n",
       "      <td>2</td>\n",
       "      <td>0</td>\n",
       "      <td>0</td>\n",
       "      <td>0</td>\n",
       "      <td>0</td>\n",
       "      <td>0</td>\n",
       "      <td>0</td>\n",
       "    </tr>\n",
       "    <tr>\n",
       "      <td>4</td>\n",
       "      <td>35</td>\n",
       "      <td>8</td>\n",
       "      <td>45</td>\n",
       "      <td>4</td>\n",
       "      <td>1.0</td>\n",
       "      <td>2</td>\n",
       "      <td>0</td>\n",
       "      <td>0</td>\n",
       "      <td>0</td>\n",
       "      <td>0</td>\n",
       "      <td>0</td>\n",
       "      <td>1</td>\n",
       "    </tr>\n",
       "  </tbody>\n",
       "</table>\n",
       "</div>"
      ],
      "text/plain": [
       "   Age  Experience  Income  Family  CCAvg  Education  Mortgage  Personal Loan  \\\n",
       "0   25           1      49       4    1.6          1         0              0   \n",
       "1   45          19      34       3    1.5          1         0              0   \n",
       "2   39          15      11       1    1.0          1         0              0   \n",
       "3   35           9     100       1    2.7          2         0              0   \n",
       "4   35           8      45       4    1.0          2         0              0   \n",
       "\n",
       "   Securities Account  CD Account  Online  CreditCard  \n",
       "0                   1           0       0           0  \n",
       "1                   1           0       0           0  \n",
       "2                   0           0       0           0  \n",
       "3                   0           0       0           0  \n",
       "4                   0           0       0           1  "
      ]
     },
     "execution_count": 9,
     "metadata": {},
     "output_type": "execute_result"
    }
   ],
   "source": [
    "del df['ID']\n",
    "del df[\"ZIP Code\"]\n",
    "df.head()"
   ]
  },
  {
   "cell_type": "code",
   "execution_count": 10,
   "metadata": {},
   "outputs": [
    {
     "data": {
      "text/plain": [
       "CreditCard\n",
       "0    3530\n",
       "1    1470\n",
       "Name: CreditCard, dtype: int64"
      ]
     },
     "execution_count": 10,
     "metadata": {},
     "output_type": "execute_result"
    }
   ],
   "source": [
    "df.groupby('CreditCard').CreditCard.count()"
   ]
  },
  {
   "cell_type": "code",
   "execution_count": 11,
   "metadata": {},
   "outputs": [],
   "source": [
    "#It is an imbalanced dataset will see if accuracy decreases."
   ]
  },
  {
   "cell_type": "code",
   "execution_count": 12,
   "metadata": {},
   "outputs": [
    {
     "data": {
      "text/html": [
       "<div>\n",
       "<style scoped>\n",
       "    .dataframe tbody tr th:only-of-type {\n",
       "        vertical-align: middle;\n",
       "    }\n",
       "\n",
       "    .dataframe tbody tr th {\n",
       "        vertical-align: top;\n",
       "    }\n",
       "\n",
       "    .dataframe thead th {\n",
       "        text-align: right;\n",
       "    }\n",
       "</style>\n",
       "<table border=\"1\" class=\"dataframe\">\n",
       "  <thead>\n",
       "    <tr style=\"text-align: right;\">\n",
       "      <th></th>\n",
       "      <th>Age</th>\n",
       "      <th>Experience</th>\n",
       "      <th>Income</th>\n",
       "      <th>Family</th>\n",
       "      <th>CCAvg</th>\n",
       "      <th>Education</th>\n",
       "      <th>Mortgage</th>\n",
       "      <th>Personal_Loan</th>\n",
       "      <th>Sec_Acc</th>\n",
       "      <th>CD_Acc</th>\n",
       "      <th>Online</th>\n",
       "      <th>CreditCard</th>\n",
       "    </tr>\n",
       "  </thead>\n",
       "  <tbody>\n",
       "    <tr>\n",
       "      <td>0</td>\n",
       "      <td>25</td>\n",
       "      <td>1</td>\n",
       "      <td>49</td>\n",
       "      <td>4</td>\n",
       "      <td>1.6</td>\n",
       "      <td>1</td>\n",
       "      <td>0</td>\n",
       "      <td>0</td>\n",
       "      <td>1</td>\n",
       "      <td>0</td>\n",
       "      <td>0</td>\n",
       "      <td>0</td>\n",
       "    </tr>\n",
       "    <tr>\n",
       "      <td>1</td>\n",
       "      <td>45</td>\n",
       "      <td>19</td>\n",
       "      <td>34</td>\n",
       "      <td>3</td>\n",
       "      <td>1.5</td>\n",
       "      <td>1</td>\n",
       "      <td>0</td>\n",
       "      <td>0</td>\n",
       "      <td>1</td>\n",
       "      <td>0</td>\n",
       "      <td>0</td>\n",
       "      <td>0</td>\n",
       "    </tr>\n",
       "    <tr>\n",
       "      <td>2</td>\n",
       "      <td>39</td>\n",
       "      <td>15</td>\n",
       "      <td>11</td>\n",
       "      <td>1</td>\n",
       "      <td>1.0</td>\n",
       "      <td>1</td>\n",
       "      <td>0</td>\n",
       "      <td>0</td>\n",
       "      <td>0</td>\n",
       "      <td>0</td>\n",
       "      <td>0</td>\n",
       "      <td>0</td>\n",
       "    </tr>\n",
       "    <tr>\n",
       "      <td>3</td>\n",
       "      <td>35</td>\n",
       "      <td>9</td>\n",
       "      <td>100</td>\n",
       "      <td>1</td>\n",
       "      <td>2.7</td>\n",
       "      <td>2</td>\n",
       "      <td>0</td>\n",
       "      <td>0</td>\n",
       "      <td>0</td>\n",
       "      <td>0</td>\n",
       "      <td>0</td>\n",
       "      <td>0</td>\n",
       "    </tr>\n",
       "    <tr>\n",
       "      <td>4</td>\n",
       "      <td>35</td>\n",
       "      <td>8</td>\n",
       "      <td>45</td>\n",
       "      <td>4</td>\n",
       "      <td>1.0</td>\n",
       "      <td>2</td>\n",
       "      <td>0</td>\n",
       "      <td>0</td>\n",
       "      <td>0</td>\n",
       "      <td>0</td>\n",
       "      <td>0</td>\n",
       "      <td>1</td>\n",
       "    </tr>\n",
       "  </tbody>\n",
       "</table>\n",
       "</div>"
      ],
      "text/plain": [
       "   Age  Experience  Income  Family  CCAvg  Education  Mortgage  Personal_Loan  \\\n",
       "0   25           1      49       4    1.6          1         0              0   \n",
       "1   45          19      34       3    1.5          1         0              0   \n",
       "2   39          15      11       1    1.0          1         0              0   \n",
       "3   35           9     100       1    2.7          2         0              0   \n",
       "4   35           8      45       4    1.0          2         0              0   \n",
       "\n",
       "   Sec_Acc  CD_Acc  Online  CreditCard  \n",
       "0        1       0       0           0  \n",
       "1        1       0       0           0  \n",
       "2        0       0       0           0  \n",
       "3        0       0       0           0  \n",
       "4        0       0       0           1  "
      ]
     },
     "execution_count": 12,
     "metadata": {},
     "output_type": "execute_result"
    }
   ],
   "source": [
    "df.rename(columns={\"Personal Loan\": \"Personal_Loan\",\"Securities Account\":\"Sec_Acc\",\"CD Account\":\"CD_Acc\"},inplace=True)\n",
    "df.head()"
   ]
  },
  {
   "cell_type": "code",
   "execution_count": 13,
   "metadata": {},
   "outputs": [
    {
     "data": {
      "text/plain": [
       "0    4520\n",
       "1     480\n",
       "Name: Personal_Loan, dtype: int64"
      ]
     },
     "execution_count": 13,
     "metadata": {},
     "output_type": "execute_result"
    }
   ],
   "source": [
    "df['Personal_Loan'].value_counts()"
   ]
  },
  {
   "cell_type": "code",
   "execution_count": 14,
   "metadata": {},
   "outputs": [],
   "source": [
    "#it is also imbalanced we have to balance the dataset"
   ]
  },
  {
   "cell_type": "markdown",
   "metadata": {},
   "source": [
    "# EDA"
   ]
  },
  {
   "cell_type": "code",
   "execution_count": 15,
   "metadata": {},
   "outputs": [],
   "source": [
    "#Reordering Columns"
   ]
  },
  {
   "cell_type": "code",
   "execution_count": 16,
   "metadata": {},
   "outputs": [],
   "source": [
    "# df=df[['Age','Experience','Income',\"Family\",\"CCAvg\",\"Education\",\"Mortgage\",\"Sec_Acc\",\"CD_Acc\",\"Online\",\"CreditCard\",\"Personal_Loan\"]]"
   ]
  },
  {
   "cell_type": "code",
   "execution_count": 17,
   "metadata": {},
   "outputs": [
    {
     "data": {
      "text/html": [
       "<div>\n",
       "<style scoped>\n",
       "    .dataframe tbody tr th:only-of-type {\n",
       "        vertical-align: middle;\n",
       "    }\n",
       "\n",
       "    .dataframe tbody tr th {\n",
       "        vertical-align: top;\n",
       "    }\n",
       "\n",
       "    .dataframe thead th {\n",
       "        text-align: right;\n",
       "    }\n",
       "</style>\n",
       "<table border=\"1\" class=\"dataframe\">\n",
       "  <thead>\n",
       "    <tr style=\"text-align: right;\">\n",
       "      <th></th>\n",
       "      <th>Age</th>\n",
       "      <th>Experience</th>\n",
       "      <th>Income</th>\n",
       "      <th>Family</th>\n",
       "      <th>CCAvg</th>\n",
       "      <th>Education</th>\n",
       "      <th>Mortgage</th>\n",
       "      <th>Personal_Loan</th>\n",
       "      <th>Sec_Acc</th>\n",
       "      <th>CD_Acc</th>\n",
       "      <th>Online</th>\n",
       "      <th>CreditCard</th>\n",
       "    </tr>\n",
       "  </thead>\n",
       "  <tbody>\n",
       "    <tr>\n",
       "      <td>count</td>\n",
       "      <td>5000.000000</td>\n",
       "      <td>5000.000000</td>\n",
       "      <td>5000.000000</td>\n",
       "      <td>5000.000000</td>\n",
       "      <td>5000.000000</td>\n",
       "      <td>5000.000000</td>\n",
       "      <td>5000.000000</td>\n",
       "      <td>5000.000000</td>\n",
       "      <td>5000.000000</td>\n",
       "      <td>5000.00000</td>\n",
       "      <td>5000.000000</td>\n",
       "      <td>5000.000000</td>\n",
       "    </tr>\n",
       "    <tr>\n",
       "      <td>mean</td>\n",
       "      <td>45.338400</td>\n",
       "      <td>20.104600</td>\n",
       "      <td>73.774200</td>\n",
       "      <td>2.396400</td>\n",
       "      <td>1.937938</td>\n",
       "      <td>1.881000</td>\n",
       "      <td>56.498800</td>\n",
       "      <td>0.096000</td>\n",
       "      <td>0.104400</td>\n",
       "      <td>0.06040</td>\n",
       "      <td>0.596800</td>\n",
       "      <td>0.294000</td>\n",
       "    </tr>\n",
       "    <tr>\n",
       "      <td>std</td>\n",
       "      <td>11.463166</td>\n",
       "      <td>11.467954</td>\n",
       "      <td>46.033729</td>\n",
       "      <td>1.147663</td>\n",
       "      <td>1.747659</td>\n",
       "      <td>0.839869</td>\n",
       "      <td>101.713802</td>\n",
       "      <td>0.294621</td>\n",
       "      <td>0.305809</td>\n",
       "      <td>0.23825</td>\n",
       "      <td>0.490589</td>\n",
       "      <td>0.455637</td>\n",
       "    </tr>\n",
       "    <tr>\n",
       "      <td>min</td>\n",
       "      <td>23.000000</td>\n",
       "      <td>-3.000000</td>\n",
       "      <td>8.000000</td>\n",
       "      <td>1.000000</td>\n",
       "      <td>0.000000</td>\n",
       "      <td>1.000000</td>\n",
       "      <td>0.000000</td>\n",
       "      <td>0.000000</td>\n",
       "      <td>0.000000</td>\n",
       "      <td>0.00000</td>\n",
       "      <td>0.000000</td>\n",
       "      <td>0.000000</td>\n",
       "    </tr>\n",
       "    <tr>\n",
       "      <td>25%</td>\n",
       "      <td>35.000000</td>\n",
       "      <td>10.000000</td>\n",
       "      <td>39.000000</td>\n",
       "      <td>1.000000</td>\n",
       "      <td>0.700000</td>\n",
       "      <td>1.000000</td>\n",
       "      <td>0.000000</td>\n",
       "      <td>0.000000</td>\n",
       "      <td>0.000000</td>\n",
       "      <td>0.00000</td>\n",
       "      <td>0.000000</td>\n",
       "      <td>0.000000</td>\n",
       "    </tr>\n",
       "    <tr>\n",
       "      <td>50%</td>\n",
       "      <td>45.000000</td>\n",
       "      <td>20.000000</td>\n",
       "      <td>64.000000</td>\n",
       "      <td>2.000000</td>\n",
       "      <td>1.500000</td>\n",
       "      <td>2.000000</td>\n",
       "      <td>0.000000</td>\n",
       "      <td>0.000000</td>\n",
       "      <td>0.000000</td>\n",
       "      <td>0.00000</td>\n",
       "      <td>1.000000</td>\n",
       "      <td>0.000000</td>\n",
       "    </tr>\n",
       "    <tr>\n",
       "      <td>75%</td>\n",
       "      <td>55.000000</td>\n",
       "      <td>30.000000</td>\n",
       "      <td>98.000000</td>\n",
       "      <td>3.000000</td>\n",
       "      <td>2.500000</td>\n",
       "      <td>3.000000</td>\n",
       "      <td>101.000000</td>\n",
       "      <td>0.000000</td>\n",
       "      <td>0.000000</td>\n",
       "      <td>0.00000</td>\n",
       "      <td>1.000000</td>\n",
       "      <td>1.000000</td>\n",
       "    </tr>\n",
       "    <tr>\n",
       "      <td>max</td>\n",
       "      <td>67.000000</td>\n",
       "      <td>43.000000</td>\n",
       "      <td>224.000000</td>\n",
       "      <td>4.000000</td>\n",
       "      <td>10.000000</td>\n",
       "      <td>3.000000</td>\n",
       "      <td>635.000000</td>\n",
       "      <td>1.000000</td>\n",
       "      <td>1.000000</td>\n",
       "      <td>1.00000</td>\n",
       "      <td>1.000000</td>\n",
       "      <td>1.000000</td>\n",
       "    </tr>\n",
       "  </tbody>\n",
       "</table>\n",
       "</div>"
      ],
      "text/plain": [
       "               Age   Experience       Income       Family        CCAvg  \\\n",
       "count  5000.000000  5000.000000  5000.000000  5000.000000  5000.000000   \n",
       "mean     45.338400    20.104600    73.774200     2.396400     1.937938   \n",
       "std      11.463166    11.467954    46.033729     1.147663     1.747659   \n",
       "min      23.000000    -3.000000     8.000000     1.000000     0.000000   \n",
       "25%      35.000000    10.000000    39.000000     1.000000     0.700000   \n",
       "50%      45.000000    20.000000    64.000000     2.000000     1.500000   \n",
       "75%      55.000000    30.000000    98.000000     3.000000     2.500000   \n",
       "max      67.000000    43.000000   224.000000     4.000000    10.000000   \n",
       "\n",
       "         Education     Mortgage  Personal_Loan      Sec_Acc      CD_Acc  \\\n",
       "count  5000.000000  5000.000000    5000.000000  5000.000000  5000.00000   \n",
       "mean      1.881000    56.498800       0.096000     0.104400     0.06040   \n",
       "std       0.839869   101.713802       0.294621     0.305809     0.23825   \n",
       "min       1.000000     0.000000       0.000000     0.000000     0.00000   \n",
       "25%       1.000000     0.000000       0.000000     0.000000     0.00000   \n",
       "50%       2.000000     0.000000       0.000000     0.000000     0.00000   \n",
       "75%       3.000000   101.000000       0.000000     0.000000     0.00000   \n",
       "max       3.000000   635.000000       1.000000     1.000000     1.00000   \n",
       "\n",
       "            Online   CreditCard  \n",
       "count  5000.000000  5000.000000  \n",
       "mean      0.596800     0.294000  \n",
       "std       0.490589     0.455637  \n",
       "min       0.000000     0.000000  \n",
       "25%       0.000000     0.000000  \n",
       "50%       1.000000     0.000000  \n",
       "75%       1.000000     1.000000  \n",
       "max       1.000000     1.000000  "
      ]
     },
     "execution_count": 17,
     "metadata": {},
     "output_type": "execute_result"
    }
   ],
   "source": [
    "df.describe()"
   ]
  },
  {
   "cell_type": "code",
   "execution_count": 18,
   "metadata": {},
   "outputs": [
    {
     "data": {
      "text/plain": [
       "Age                int64\n",
       "Experience         int64\n",
       "Income             int64\n",
       "Family             int64\n",
       "CCAvg            float64\n",
       "Education          int64\n",
       "Mortgage           int64\n",
       "Personal_Loan      int64\n",
       "Sec_Acc            int64\n",
       "CD_Acc             int64\n",
       "Online             int64\n",
       "CreditCard         int64\n",
       "dtype: object"
      ]
     },
     "execution_count": 18,
     "metadata": {},
     "output_type": "execute_result"
    }
   ],
   "source": [
    "df.dtypes"
   ]
  },
  {
   "cell_type": "code",
   "execution_count": 19,
   "metadata": {},
   "outputs": [
    {
     "data": {
      "text/plain": [
       "<matplotlib.axes._subplots.AxesSubplot at 0x222c6f9dd88>"
      ]
     },
     "execution_count": 19,
     "metadata": {},
     "output_type": "execute_result"
    },
    {
     "data": {
      "image/png": "[encoded data removed]",
      "text/plain": [
       "<Figure size 432x288 with 1 Axes>"
      ]
     },
     "metadata": {
      "needs_background": "light"
     },
     "output_type": "display_data"
    }
   ],
   "source": [
    "sns.countplot(data=df,x=\"Personal_Loan\")"
   ]
  },
  {
   "cell_type": "code",
   "execution_count": 20,
   "metadata": {},
   "outputs": [
    {
     "data": {
      "text/plain": [
       "<matplotlib.axes._subplots.AxesSubplot at 0x222c729da08>"
      ]
     },
     "execution_count": 20,
     "metadata": {},
     "output_type": "execute_result"
    },
    {
     "data": {
      "image/png": "[encoded data removed]",
      "text/plain": [
       "<Figure size 432x288 with 1 Axes>"
      ]
     },
     "metadata": {
      "needs_background": "light"
     },
     "output_type": "display_data"
    }
   ],
   "source": [
    "sns.countplot(data=df,x=\"CreditCard\")"
   ]
  },
  {
   "cell_type": "code",
   "execution_count": 21,
   "metadata": {},
   "outputs": [
    {
     "data": {
      "text/html": [
       "<div>\n",
       "<style scoped>\n",
       "    .dataframe tbody tr th:only-of-type {\n",
       "        vertical-align: middle;\n",
       "    }\n",
       "\n",
       "    .dataframe tbody tr th {\n",
       "        vertical-align: top;\n",
       "    }\n",
       "\n",
       "    .dataframe thead th {\n",
       "        text-align: right;\n",
       "    }\n",
       "</style>\n",
       "<table border=\"1\" class=\"dataframe\">\n",
       "  <thead>\n",
       "    <tr style=\"text-align: right;\">\n",
       "      <th></th>\n",
       "      <th>Age</th>\n",
       "      <th>Experience</th>\n",
       "      <th>Income</th>\n",
       "      <th>Family</th>\n",
       "      <th>CCAvg</th>\n",
       "      <th>Education</th>\n",
       "      <th>Mortgage</th>\n",
       "      <th>Personal_Loan</th>\n",
       "      <th>Sec_Acc</th>\n",
       "      <th>CD_Acc</th>\n",
       "      <th>Online</th>\n",
       "      <th>CreditCard</th>\n",
       "    </tr>\n",
       "  </thead>\n",
       "  <tbody>\n",
       "    <tr>\n",
       "      <td>4995</td>\n",
       "      <td>29</td>\n",
       "      <td>3</td>\n",
       "      <td>40</td>\n",
       "      <td>1</td>\n",
       "      <td>1.9</td>\n",
       "      <td>3</td>\n",
       "      <td>0</td>\n",
       "      <td>0</td>\n",
       "      <td>0</td>\n",
       "      <td>0</td>\n",
       "      <td>1</td>\n",
       "      <td>0</td>\n",
       "    </tr>\n",
       "    <tr>\n",
       "      <td>4996</td>\n",
       "      <td>30</td>\n",
       "      <td>4</td>\n",
       "      <td>15</td>\n",
       "      <td>4</td>\n",
       "      <td>0.4</td>\n",
       "      <td>1</td>\n",
       "      <td>85</td>\n",
       "      <td>0</td>\n",
       "      <td>0</td>\n",
       "      <td>0</td>\n",
       "      <td>1</td>\n",
       "      <td>0</td>\n",
       "    </tr>\n",
       "    <tr>\n",
       "      <td>4997</td>\n",
       "      <td>63</td>\n",
       "      <td>39</td>\n",
       "      <td>24</td>\n",
       "      <td>2</td>\n",
       "      <td>0.3</td>\n",
       "      <td>3</td>\n",
       "      <td>0</td>\n",
       "      <td>0</td>\n",
       "      <td>0</td>\n",
       "      <td>0</td>\n",
       "      <td>0</td>\n",
       "      <td>0</td>\n",
       "    </tr>\n",
       "    <tr>\n",
       "      <td>4998</td>\n",
       "      <td>65</td>\n",
       "      <td>40</td>\n",
       "      <td>49</td>\n",
       "      <td>3</td>\n",
       "      <td>0.5</td>\n",
       "      <td>2</td>\n",
       "      <td>0</td>\n",
       "      <td>0</td>\n",
       "      <td>0</td>\n",
       "      <td>0</td>\n",
       "      <td>1</td>\n",
       "      <td>0</td>\n",
       "    </tr>\n",
       "    <tr>\n",
       "      <td>4999</td>\n",
       "      <td>28</td>\n",
       "      <td>4</td>\n",
       "      <td>83</td>\n",
       "      <td>3</td>\n",
       "      <td>0.8</td>\n",
       "      <td>1</td>\n",
       "      <td>0</td>\n",
       "      <td>0</td>\n",
       "      <td>0</td>\n",
       "      <td>0</td>\n",
       "      <td>1</td>\n",
       "      <td>1</td>\n",
       "    </tr>\n",
       "  </tbody>\n",
       "</table>\n",
       "</div>"
      ],
      "text/plain": [
       "      Age  Experience  Income  Family  CCAvg  Education  Mortgage  \\\n",
       "4995   29           3      40       1    1.9          3         0   \n",
       "4996   30           4      15       4    0.4          1        85   \n",
       "4997   63          39      24       2    0.3          3         0   \n",
       "4998   65          40      49       3    0.5          2         0   \n",
       "4999   28           4      83       3    0.8          1         0   \n",
       "\n",
       "      Personal_Loan  Sec_Acc  CD_Acc  Online  CreditCard  \n",
       "4995              0        0       0       1           0  \n",
       "4996              0        0       0       1           0  \n",
       "4997              0        0       0       0           0  \n",
       "4998              0        0       0       1           0  \n",
       "4999              0        0       0       1           1  "
      ]
     },
     "execution_count": 21,
     "metadata": {},
     "output_type": "execute_result"
    }
   ],
   "source": [
    "df.tail()"
   ]
  },
  {
   "cell_type": "code",
   "execution_count": 22,
   "metadata": {},
   "outputs": [
    {
     "name": "stdout",
     "output_type": "stream",
     "text": [
      "Requirement already satisfied: bubbly in c:\\users\\hp\\anaconda3\\lib\\site-packages (1.0.2)\n",
      "Requirement already satisfied: plotly in c:\\users\\hp\\anaconda3\\lib\\site-packages (from bubbly) (4.6.0)\n",
      "Requirement already satisfied: pandas in c:\\users\\hp\\anaconda3\\lib\\site-packages (from bubbly) (0.25.1)\n",
      "Requirement already satisfied: retrying>=1.3.3 in c:\\users\\hp\\anaconda3\\lib\\site-packages (from plotly->bubbly) (1.3.3)\n",
      "Requirement already satisfied: six in c:\\users\\hp\\anaconda3\\lib\\site-packages (from plotly->bubbly) (1.12.0)\n",
      "Requirement already satisfied: numpy>=1.13.3 in c:\\users\\hp\\anaconda3\\lib\\site-packages (from pandas->bubbly) (1.16.5)\n",
      "Requirement already satisfied: python-dateutil>=2.6.1 in c:\\users\\hp\\anaconda3\\lib\\site-packages (from pandas->bubbly) (2.8.0)\n",
      "Requirement already satisfied: pytz>=2017.2 in c:\\users\\hp\\anaconda3\\lib\\site-packages (from pandas->bubbly) (2019.3)\n",
      "Note: you may need to restart the kernel to use updated packages.\n"
     ]
    }
   ],
   "source": [
    "pip install bubbly"
   ]
  },
  {
   "cell_type": "code",
   "execution_count": 23,
   "metadata": {},
   "outputs": [],
   "source": [
    "# from bubbly.bubbly import bubbleplot"
   ]
  },
  {
   "cell_type": "code",
   "execution_count": 24,
   "metadata": {},
   "outputs": [],
   "source": [
    "# figure = bubbleplot(dataset = df, x_column = 'Experience', y_column = 'Income', \n",
    "#     bubble_column = 'Personal_Loan', time_column = 'Age', size_column = 'Mortgage', color_column = 'Personal_Loan', \n",
    "#     x_title = \"Experience\", y_title = \"Income\", title = 'Experience vs Income. vs Age vs Mortgage vs Personal Loan',\n",
    "#     x_logscale = False, scale_bubble = 3, height = 650)\n",
    "\n",
    "# plt.iplot(figure, config={'scrollzoom': True})"
   ]
  },
  {
   "cell_type": "code",
   "execution_count": 25,
   "metadata": {},
   "outputs": [
    {
     "data": {
      "image/png": "[encoded data removed]",
      "text/plain": [
       "<Figure size 1080x360 with 1 Axes>"
      ]
     },
     "metadata": {
      "needs_background": "light"
     },
     "output_type": "display_data"
    }
   ],
   "source": [
    "plt.rcParams['figure.figsize'] = (15, 5)\n",
    "sns.distplot(df['Age'], color = 'cyan')\n",
    "plt.title('Distribution of Age', fontsize = 20)\n",
    "plt.show()"
   ]
  },
  {
   "cell_type": "code",
   "execution_count": 26,
   "metadata": {},
   "outputs": [],
   "source": [
    "#Age is well managed"
   ]
  },
  {
   "cell_type": "code",
   "execution_count": 27,
   "metadata": {
    "scrolled": true
   },
   "outputs": [
    {
     "data": {
      "image/png": "[encoded data removed]",
      "text/plain": [
       "<Figure size 1080x360 with 1 Axes>"
      ]
     },
     "metadata": {
      "needs_background": "light"
     },
     "output_type": "display_data"
    }
   ],
   "source": [
    "plt.rcParams['figure.figsize'] = (15, 5)\n",
    "sns.distplot(df['Income'], color = 'red',norm_hist=True)\n",
    "plt.title('Distribution of Income', fontsize = 20)\n",
    "plt.show()"
   ]
  },
  {
   "cell_type": "code",
   "execution_count": 28,
   "metadata": {},
   "outputs": [],
   "source": [
    "#So income is not well managed."
   ]
  },
  {
   "cell_type": "code",
   "execution_count": 29,
   "metadata": {},
   "outputs": [
    {
     "data": {
      "image/png": "[encoded data removed]",
      "text/plain": [
       "<Figure size 1080x360 with 1 Axes>"
      ]
     },
     "metadata": {
      "needs_background": "light"
     },
     "output_type": "display_data"
    }
   ],
   "source": [
    "plt.rcParams['figure.figsize'] = (15, 5)\n",
    "sns.distplot(df['Experience'], color = 'green')\n",
    "plt.title('Distribution of Experience', fontsize = 20)\n",
    "plt.show()"
   ]
  },
  {
   "cell_type": "code",
   "execution_count": 30,
   "metadata": {},
   "outputs": [],
   "source": [
    "#So Experience is welll balanced"
   ]
  },
  {
   "cell_type": "code",
   "execution_count": 31,
   "metadata": {},
   "outputs": [
    {
     "data": {
      "image/png": "[encoded data removed]",
      "text/plain": [
       "<Figure size 864x648 with 1 Axes>"
      ]
     },
     "metadata": {
      "needs_background": "light"
     },
     "output_type": "display_data"
    }
   ],
   "source": [
    "plt.rcParams['figure.figsize'] = (12, 9)\n",
    "sns.boxplot(df['Personal_Loan'], df['Income'], palette = 'viridis')\n",
    "plt.title('Relation of Income with Personal Loan', fontsize = 20)\n",
    "plt.show()"
   ]
  },
  {
   "cell_type": "markdown",
   "metadata": {},
   "source": [
    "# FEATURE SELECTION"
   ]
  },
  {
   "cell_type": "markdown",
   "metadata": {},
   "source": [
    "## CHECKING FOR CORRELATION\n"
   ]
  },
  {
   "cell_type": "code",
   "execution_count": 32,
   "metadata": {},
   "outputs": [
    {
     "data": {
      "image/png": "[encoded data removed]",
      "text/plain": [
       "<Figure size 1440x720 with 2 Axes>"
      ]
     },
     "metadata": {},
     "output_type": "display_data"
    }
   ],
   "source": [
    "plt.rcParams['figure.figsize'] = (20, 10)\n",
    "plt.style.use('ggplot')\n",
    "sns.heatmap(df.corr(), annot = True, cmap = 'Wistia')\n",
    "plt.title('Heatmap for the Dataset', fontsize = 20)\n",
    "plt.show()"
   ]
  },
  {
   "cell_type": "code",
   "execution_count": 33,
   "metadata": {},
   "outputs": [
    {
     "data": {
      "text/plain": [
       "Personal_Loan    1.000000\n",
       "Income           0.502462\n",
       "CCAvg            0.366889\n",
       "CD_Acc           0.316355\n",
       "Mortgage         0.142095\n",
       "Education        0.136722\n",
       "Family           0.061367\n",
       "Sec_Acc          0.021954\n",
       "Online           0.006278\n",
       "CreditCard       0.002802\n",
       "Experience      -0.007413\n",
       "Age             -0.007726\n",
       "Name: Personal_Loan, dtype: float64"
      ]
     },
     "execution_count": 33,
     "metadata": {},
     "output_type": "execute_result"
    }
   ],
   "source": [
    "corr=df.corr()\n",
    "corr[\"Personal_Loan\"].sort_values(ascending=False)"
   ]
  },
  {
   "cell_type": "code",
   "execution_count": 34,
   "metadata": {},
   "outputs": [
    {
     "data": {
      "text/html": [
       "<div>\n",
       "<style scoped>\n",
       "    .dataframe tbody tr th:only-of-type {\n",
       "        vertical-align: middle;\n",
       "    }\n",
       "\n",
       "    .dataframe tbody tr th {\n",
       "        vertical-align: top;\n",
       "    }\n",
       "\n",
       "    .dataframe thead th {\n",
       "        text-align: right;\n",
       "    }\n",
       "</style>\n",
       "<table border=\"1\" class=\"dataframe\">\n",
       "  <thead>\n",
       "    <tr style=\"text-align: right;\">\n",
       "      <th></th>\n",
       "      <th>Age</th>\n",
       "      <th>Experience</th>\n",
       "      <th>Income</th>\n",
       "      <th>Family</th>\n",
       "      <th>CCAvg</th>\n",
       "      <th>Education</th>\n",
       "      <th>Mortgage</th>\n",
       "      <th>Sec_Acc</th>\n",
       "      <th>CD_Acc</th>\n",
       "      <th>Online</th>\n",
       "      <th>CreditCard</th>\n",
       "    </tr>\n",
       "  </thead>\n",
       "  <tbody>\n",
       "    <tr>\n",
       "      <td>0</td>\n",
       "      <td>25</td>\n",
       "      <td>1</td>\n",
       "      <td>49</td>\n",
       "      <td>4</td>\n",
       "      <td>1.6</td>\n",
       "      <td>1</td>\n",
       "      <td>0</td>\n",
       "      <td>1</td>\n",
       "      <td>0</td>\n",
       "      <td>0</td>\n",
       "      <td>0</td>\n",
       "    </tr>\n",
       "    <tr>\n",
       "      <td>1</td>\n",
       "      <td>45</td>\n",
       "      <td>19</td>\n",
       "      <td>34</td>\n",
       "      <td>3</td>\n",
       "      <td>1.5</td>\n",
       "      <td>1</td>\n",
       "      <td>0</td>\n",
       "      <td>1</td>\n",
       "      <td>0</td>\n",
       "      <td>0</td>\n",
       "      <td>0</td>\n",
       "    </tr>\n",
       "    <tr>\n",
       "      <td>2</td>\n",
       "      <td>39</td>\n",
       "      <td>15</td>\n",
       "      <td>11</td>\n",
       "      <td>1</td>\n",
       "      <td>1.0</td>\n",
       "      <td>1</td>\n",
       "      <td>0</td>\n",
       "      <td>0</td>\n",
       "      <td>0</td>\n",
       "      <td>0</td>\n",
       "      <td>0</td>\n",
       "    </tr>\n",
       "    <tr>\n",
       "      <td>3</td>\n",
       "      <td>35</td>\n",
       "      <td>9</td>\n",
       "      <td>100</td>\n",
       "      <td>1</td>\n",
       "      <td>2.7</td>\n",
       "      <td>2</td>\n",
       "      <td>0</td>\n",
       "      <td>0</td>\n",
       "      <td>0</td>\n",
       "      <td>0</td>\n",
       "      <td>0</td>\n",
       "    </tr>\n",
       "    <tr>\n",
       "      <td>4</td>\n",
       "      <td>35</td>\n",
       "      <td>8</td>\n",
       "      <td>45</td>\n",
       "      <td>4</td>\n",
       "      <td>1.0</td>\n",
       "      <td>2</td>\n",
       "      <td>0</td>\n",
       "      <td>0</td>\n",
       "      <td>0</td>\n",
       "      <td>0</td>\n",
       "      <td>1</td>\n",
       "    </tr>\n",
       "    <tr>\n",
       "      <td>...</td>\n",
       "      <td>...</td>\n",
       "      <td>...</td>\n",
       "      <td>...</td>\n",
       "      <td>...</td>\n",
       "      <td>...</td>\n",
       "      <td>...</td>\n",
       "      <td>...</td>\n",
       "      <td>...</td>\n",
       "      <td>...</td>\n",
       "      <td>...</td>\n",
       "      <td>...</td>\n",
       "    </tr>\n",
       "    <tr>\n",
       "      <td>4995</td>\n",
       "      <td>29</td>\n",
       "      <td>3</td>\n",
       "      <td>40</td>\n",
       "      <td>1</td>\n",
       "      <td>1.9</td>\n",
       "      <td>3</td>\n",
       "      <td>0</td>\n",
       "      <td>0</td>\n",
       "      <td>0</td>\n",
       "      <td>1</td>\n",
       "      <td>0</td>\n",
       "    </tr>\n",
       "    <tr>\n",
       "      <td>4996</td>\n",
       "      <td>30</td>\n",
       "      <td>4</td>\n",
       "      <td>15</td>\n",
       "      <td>4</td>\n",
       "      <td>0.4</td>\n",
       "      <td>1</td>\n",
       "      <td>85</td>\n",
       "      <td>0</td>\n",
       "      <td>0</td>\n",
       "      <td>1</td>\n",
       "      <td>0</td>\n",
       "    </tr>\n",
       "    <tr>\n",
       "      <td>4997</td>\n",
       "      <td>63</td>\n",
       "      <td>39</td>\n",
       "      <td>24</td>\n",
       "      <td>2</td>\n",
       "      <td>0.3</td>\n",
       "      <td>3</td>\n",
       "      <td>0</td>\n",
       "      <td>0</td>\n",
       "      <td>0</td>\n",
       "      <td>0</td>\n",
       "      <td>0</td>\n",
       "    </tr>\n",
       "    <tr>\n",
       "      <td>4998</td>\n",
       "      <td>65</td>\n",
       "      <td>40</td>\n",
       "      <td>49</td>\n",
       "      <td>3</td>\n",
       "      <td>0.5</td>\n",
       "      <td>2</td>\n",
       "      <td>0</td>\n",
       "      <td>0</td>\n",
       "      <td>0</td>\n",
       "      <td>1</td>\n",
       "      <td>0</td>\n",
       "    </tr>\n",
       "    <tr>\n",
       "      <td>4999</td>\n",
       "      <td>28</td>\n",
       "      <td>4</td>\n",
       "      <td>83</td>\n",
       "      <td>3</td>\n",
       "      <td>0.8</td>\n",
       "      <td>1</td>\n",
       "      <td>0</td>\n",
       "      <td>0</td>\n",
       "      <td>0</td>\n",
       "      <td>1</td>\n",
       "      <td>1</td>\n",
       "    </tr>\n",
       "  </tbody>\n",
       "</table>\n",
       "<p>5000 rows × 11 columns</p>\n",
       "</div>"
      ],
      "text/plain": [
       "      Age  Experience  Income  Family  CCAvg  Education  Mortgage  Sec_Acc  \\\n",
       "0      25           1      49       4    1.6          1         0        1   \n",
       "1      45          19      34       3    1.5          1         0        1   \n",
       "2      39          15      11       1    1.0          1         0        0   \n",
       "3      35           9     100       1    2.7          2         0        0   \n",
       "4      35           8      45       4    1.0          2         0        0   \n",
       "...   ...         ...     ...     ...    ...        ...       ...      ...   \n",
       "4995   29           3      40       1    1.9          3         0        0   \n",
       "4996   30           4      15       4    0.4          1        85        0   \n",
       "4997   63          39      24       2    0.3          3         0        0   \n",
       "4998   65          40      49       3    0.5          2         0        0   \n",
       "4999   28           4      83       3    0.8          1         0        0   \n",
       "\n",
       "      CD_Acc  Online  CreditCard  \n",
       "0          0       0           0  \n",
       "1          0       0           0  \n",
       "2          0       0           0  \n",
       "3          0       0           0  \n",
       "4          0       0           1  \n",
       "...      ...     ...         ...  \n",
       "4995       0       1           0  \n",
       "4996       0       1           0  \n",
       "4997       0       0           0  \n",
       "4998       0       1           0  \n",
       "4999       0       1           1  \n",
       "\n",
       "[5000 rows x 11 columns]"
      ]
     },
     "execution_count": 34,
     "metadata": {},
     "output_type": "execute_result"
    }
   ],
   "source": [
    "x=df.drop('Personal_Loan',axis=1)\n",
    "x"
   ]
  },
  {
   "cell_type": "code",
   "execution_count": 35,
   "metadata": {},
   "outputs": [],
   "source": [
    "y=df['Personal_Loan']"
   ]
  },
  {
   "cell_type": "markdown",
   "metadata": {},
   "source": [
    "## Using Extra Trees Classifier"
   ]
  },
  {
   "cell_type": "code",
   "execution_count": 36,
   "metadata": {},
   "outputs": [
    {
     "data": {
      "text/plain": [
       "ExtraTreesClassifier(bootstrap=False, ccp_alpha=0.0, class_weight=None,\n",
       "                     criterion='gini', max_depth=None, max_features='auto',\n",
       "                     max_leaf_nodes=None, max_samples=None,\n",
       "                     min_impurity_decrease=0.0, min_impurity_split=None,\n",
       "                     min_samples_leaf=1, min_samples_split=2,\n",
       "                     min_weight_fraction_leaf=0.0, n_estimators=100,\n",
       "                     n_jobs=None, oob_score=False, random_state=None, verbose=0,\n",
       "                     warm_start=False)"
      ]
     },
     "execution_count": 36,
     "metadata": {},
     "output_type": "execute_result"
    }
   ],
   "source": [
    "from sklearn.ensemble import ExtraTreesClassifier\n",
    "import matplotlib.pyplot as plt\n",
    "model = ExtraTreesClassifier()\n",
    "model.fit(x,y)"
   ]
  },
  {
   "cell_type": "code",
   "execution_count": 37,
   "metadata": {},
   "outputs": [
    {
     "name": "stdout",
     "output_type": "stream",
     "text": [
      "[0.0426858  0.04314586 0.32810111 0.09867364 0.1651156  0.171412\n",
      " 0.03452974 0.0086967  0.07679857 0.01243199 0.01840897]\n"
     ]
    }
   ],
   "source": [
    "print(model.feature_importances_)"
   ]
  },
  {
   "cell_type": "code",
   "execution_count": 38,
   "metadata": {},
   "outputs": [
    {
     "data": {
      "image/png": "[encoded data removed]",
      "text/plain": [
       "<Figure size 1440x720 with 1 Axes>"
      ]
     },
     "metadata": {},
     "output_type": "display_data"
    }
   ],
   "source": [
    "feat_importances = pd.Series(model.feature_importances_, index=x.columns)\n",
    "feat_importances.nlargest(10).plot(kind='barh')\n",
    "plt.show()"
   ]
  },
  {
   "cell_type": "markdown",
   "metadata": {},
   "source": [
    "## Using ANOVA TEST"
   ]
  },
  {
   "cell_type": "code",
   "execution_count": 39,
   "metadata": {},
   "outputs": [],
   "source": [
    "from sklearn.feature_selection import f_classif"
   ]
  },
  {
   "cell_type": "code",
   "execution_count": 40,
   "metadata": {},
   "outputs": [
    {
     "data": {
      "text/plain": [
       "(array([2.98324239e-01, 2.74675302e-01, 1.68800458e+03, 1.88931888e+01,\n",
       "        7.77413007e+02, 9.52061943e+01, 1.02994466e+02, 2.41006236e+00,\n",
       "        5.55829340e+02, 1.96983772e-01, 3.92268699e-02]),\n",
       " array([5.84959264e-001, 6.00235883e-001, 3.56029139e-318, 1.40990407e-005,\n",
       "        3.83026616e-159, 2.70966319e-022, 5.73034172e-024, 1.20620879e-001,\n",
       "        1.27840285e-116, 6.57185766e-001, 8.43007940e-001]))"
      ]
     },
     "execution_count": 40,
     "metadata": {},
     "output_type": "execute_result"
    }
   ],
   "source": [
    "select=f_classif(x,y)\n",
    "select"
   ]
  },
  {
   "cell_type": "code",
   "execution_count": 41,
   "metadata": {},
   "outputs": [],
   "source": [
    "p_values=pd.Series(select[1])\n",
    "p_values.index=x.columns\n",
    "p_values.sort_values(ascending=True,inplace=True)"
   ]
  },
  {
   "cell_type": "code",
   "execution_count": 42,
   "metadata": {},
   "outputs": [
    {
     "data": {
      "text/plain": [
       "Income        3.560291e-318\n",
       "CCAvg         3.830266e-159\n",
       "CD_Acc        1.278403e-116\n",
       "Mortgage       5.730342e-24\n",
       "Education      2.709663e-22\n",
       "Family         1.409904e-05\n",
       "Sec_Acc        1.206209e-01\n",
       "Age            5.849593e-01\n",
       "Experience     6.002359e-01\n",
       "Online         6.571858e-01\n",
       "CreditCard     8.430079e-01\n",
       "dtype: float64"
      ]
     },
     "execution_count": 42,
     "metadata": {},
     "output_type": "execute_result"
    }
   ],
   "source": [
    "p_values"
   ]
  },
  {
   "cell_type": "code",
   "execution_count": 43,
   "metadata": {},
   "outputs": [
    {
     "data": {
      "text/plain": [
       "Income       3.560291e-318\n",
       "CCAvg        3.830266e-159\n",
       "CD_Acc       1.278403e-116\n",
       "Mortgage      5.730342e-24\n",
       "Education     2.709663e-22\n",
       "Family        1.409904e-05\n",
       "dtype: float64"
      ]
     },
     "execution_count": 43,
     "metadata": {},
     "output_type": "execute_result"
    }
   ],
   "source": [
    "p_values=p_values[p_values<0.05]\n",
    "p_values"
   ]
  },
  {
   "cell_type": "code",
   "execution_count": 44,
   "metadata": {},
   "outputs": [],
   "source": [
    "# From all the three feature selection techniques we have got the top features i.e Income,CCAvg,CC_Acc,Mortgage,Education"
   ]
  },
  {
   "cell_type": "code",
   "execution_count": 45,
   "metadata": {},
   "outputs": [],
   "source": [
    "#Hence droping less coreleated features."
   ]
  },
  {
   "cell_type": "code",
   "execution_count": 46,
   "metadata": {},
   "outputs": [],
   "source": [
    "df.drop(['Online','CreditCard'],axis=1,inplace=True)"
   ]
  },
  {
   "cell_type": "code",
   "execution_count": 47,
   "metadata": {},
   "outputs": [
    {
     "data": {
      "text/html": [
       "<div>\n",
       "<style scoped>\n",
       "    .dataframe tbody tr th:only-of-type {\n",
       "        vertical-align: middle;\n",
       "    }\n",
       "\n",
       "    .dataframe tbody tr th {\n",
       "        vertical-align: top;\n",
       "    }\n",
       "\n",
       "    .dataframe thead th {\n",
       "        text-align: right;\n",
       "    }\n",
       "</style>\n",
       "<table border=\"1\" class=\"dataframe\">\n",
       "  <thead>\n",
       "    <tr style=\"text-align: right;\">\n",
       "      <th></th>\n",
       "      <th>Age</th>\n",
       "      <th>Experience</th>\n",
       "      <th>Income</th>\n",
       "      <th>Family</th>\n",
       "      <th>CCAvg</th>\n",
       "      <th>Education</th>\n",
       "      <th>Mortgage</th>\n",
       "      <th>Personal_Loan</th>\n",
       "      <th>Sec_Acc</th>\n",
       "      <th>CD_Acc</th>\n",
       "    </tr>\n",
       "  </thead>\n",
       "  <tbody>\n",
       "    <tr>\n",
       "      <td>0</td>\n",
       "      <td>25</td>\n",
       "      <td>1</td>\n",
       "      <td>49</td>\n",
       "      <td>4</td>\n",
       "      <td>1.6</td>\n",
       "      <td>1</td>\n",
       "      <td>0</td>\n",
       "      <td>0</td>\n",
       "      <td>1</td>\n",
       "      <td>0</td>\n",
       "    </tr>\n",
       "    <tr>\n",
       "      <td>1</td>\n",
       "      <td>45</td>\n",
       "      <td>19</td>\n",
       "      <td>34</td>\n",
       "      <td>3</td>\n",
       "      <td>1.5</td>\n",
       "      <td>1</td>\n",
       "      <td>0</td>\n",
       "      <td>0</td>\n",
       "      <td>1</td>\n",
       "      <td>0</td>\n",
       "    </tr>\n",
       "    <tr>\n",
       "      <td>2</td>\n",
       "      <td>39</td>\n",
       "      <td>15</td>\n",
       "      <td>11</td>\n",
       "      <td>1</td>\n",
       "      <td>1.0</td>\n",
       "      <td>1</td>\n",
       "      <td>0</td>\n",
       "      <td>0</td>\n",
       "      <td>0</td>\n",
       "      <td>0</td>\n",
       "    </tr>\n",
       "    <tr>\n",
       "      <td>3</td>\n",
       "      <td>35</td>\n",
       "      <td>9</td>\n",
       "      <td>100</td>\n",
       "      <td>1</td>\n",
       "      <td>2.7</td>\n",
       "      <td>2</td>\n",
       "      <td>0</td>\n",
       "      <td>0</td>\n",
       "      <td>0</td>\n",
       "      <td>0</td>\n",
       "    </tr>\n",
       "    <tr>\n",
       "      <td>4</td>\n",
       "      <td>35</td>\n",
       "      <td>8</td>\n",
       "      <td>45</td>\n",
       "      <td>4</td>\n",
       "      <td>1.0</td>\n",
       "      <td>2</td>\n",
       "      <td>0</td>\n",
       "      <td>0</td>\n",
       "      <td>0</td>\n",
       "      <td>0</td>\n",
       "    </tr>\n",
       "  </tbody>\n",
       "</table>\n",
       "</div>"
      ],
      "text/plain": [
       "   Age  Experience  Income  Family  CCAvg  Education  Mortgage  Personal_Loan  \\\n",
       "0   25           1      49       4    1.6          1         0              0   \n",
       "1   45          19      34       3    1.5          1         0              0   \n",
       "2   39          15      11       1    1.0          1         0              0   \n",
       "3   35           9     100       1    2.7          2         0              0   \n",
       "4   35           8      45       4    1.0          2         0              0   \n",
       "\n",
       "   Sec_Acc  CD_Acc  \n",
       "0        1       0  \n",
       "1        1       0  \n",
       "2        0       0  \n",
       "3        0       0  \n",
       "4        0       0  "
      ]
     },
     "execution_count": 47,
     "metadata": {},
     "output_type": "execute_result"
    }
   ],
   "source": [
    "df.head()"
   ]
  },
  {
   "cell_type": "code",
   "execution_count": 48,
   "metadata": {},
   "outputs": [
    {
     "data": {
      "text/plain": [
       "0    4520\n",
       "1     480\n",
       "Name: Personal_Loan, dtype: int64"
      ]
     },
     "execution_count": 48,
     "metadata": {},
     "output_type": "execute_result"
    }
   ],
   "source": [
    "df['Personal_Loan'].value_counts()"
   ]
  },
  {
   "cell_type": "code",
   "execution_count": 49,
   "metadata": {},
   "outputs": [],
   "source": [
    "#It seems to be a imbalanced dataset still trying different classification algorithms."
   ]
  },
  {
   "cell_type": "markdown",
   "metadata": {},
   "source": [
    "# TRAIN TEST AND SPLIT"
   ]
  },
  {
   "cell_type": "code",
   "execution_count": 50,
   "metadata": {},
   "outputs": [],
   "source": [
    "from sklearn.model_selection import train_test_split\n",
    "from sklearn.metrics import confusion_matrix\n",
    "from sklearn.metrics import classification_report"
   ]
  },
  {
   "cell_type": "code",
   "execution_count": 51,
   "metadata": {},
   "outputs": [],
   "source": [
    "X_train,X_test,Y_train,Y_test = train_test_split(x,y,test_size=0.20,random_state=0)"
   ]
  },
  {
   "cell_type": "code",
   "execution_count": 52,
   "metadata": {},
   "outputs": [
    {
     "data": {
      "text/plain": [
       "array([3610,  390], dtype=int64)"
      ]
     },
     "execution_count": 52,
     "metadata": {},
     "output_type": "execute_result"
    }
   ],
   "source": [
    "np.bincount(Y_train)"
   ]
  },
  {
   "cell_type": "markdown",
   "metadata": {},
   "source": [
    "# MODEL FITTING"
   ]
  },
  {
   "cell_type": "code",
   "execution_count": 53,
   "metadata": {},
   "outputs": [],
   "source": [
    "# pip install imblearn"
   ]
  },
  {
   "cell_type": "code",
   "execution_count": 54,
   "metadata": {},
   "outputs": [
    {
     "name": "stderr",
     "output_type": "stream",
     "text": [
      "Using TensorFlow backend.\n"
     ]
    }
   ],
   "source": [
    "from imblearn.over_sampling import SMOTE"
   ]
  },
  {
   "cell_type": "code",
   "execution_count": 55,
   "metadata": {},
   "outputs": [],
   "source": [
    "from imblearn.over_sampling import RandomOverSampler"
   ]
  },
  {
   "cell_type": "markdown",
   "metadata": {},
   "source": [
    "# LOGISTIC REGRESSION"
   ]
  },
  {
   "cell_type": "code",
   "execution_count": 56,
   "metadata": {},
   "outputs": [
    {
     "name": "stderr",
     "output_type": "stream",
     "text": [
      "C:\\Users\\hp\\Anaconda3\\lib\\site-packages\\sklearn\\linear_model\\_logistic.py:940: ConvergenceWarning: lbfgs failed to converge (status=1):\n",
      "STOP: TOTAL NO. of ITERATIONS REACHED LIMIT.\n",
      "\n",
      "Increase the number of iterations (max_iter) or scale the data as shown in:\n",
      "    https://scikit-learn.org/stable/modules/preprocessing.html\n",
      "Please also refer to the documentation for alternative solver options:\n",
      "    https://scikit-learn.org/stable/modules/linear_model.html#logistic-regression\n",
      "  extra_warning_msg=_LOGISTIC_SOLVER_CONVERGENCE_MSG)\n"
     ]
    }
   ],
   "source": [
    "from sklearn.linear_model import LogisticRegression\n",
    "\n",
    "lr1 = LogisticRegression()\n",
    "\n",
    "lr1.fit(X_train,Y_train)\n",
    "\n",
    "Y_pred_lr1 = lr1.predict(X_test)"
   ]
  },
  {
   "cell_type": "code",
   "execution_count": 57,
   "metadata": {},
   "outputs": [],
   "source": [
    "from sklearn.metrics import accuracy_score"
   ]
  },
  {
   "cell_type": "code",
   "execution_count": 58,
   "metadata": {},
   "outputs": [
    {
     "name": "stdout",
     "output_type": "stream",
     "text": [
      "The accuracy score achieved using Logistic Regression is: 95.5 %\n"
     ]
    }
   ],
   "source": [
    "score_lr1 = round(accuracy_score(Y_pred_lr1,Y_test)*100,2)\n",
    "\n",
    "print(\"The accuracy score achieved using Logistic Regression is: \"+str(score_lr1)+\" %\")"
   ]
  },
  {
   "cell_type": "code",
   "execution_count": 59,
   "metadata": {},
   "outputs": [],
   "source": [
    "results = confusion_matrix(Y_test, Y_pred_lr1) "
   ]
  },
  {
   "cell_type": "code",
   "execution_count": 60,
   "metadata": {},
   "outputs": [
    {
     "name": "stdout",
     "output_type": "stream",
     "text": [
      "              precision    recall  f1-score   support\n",
      "\n",
      "           0       0.99      0.96      0.98       939\n",
      "           1       0.59      0.87      0.70        61\n",
      "\n",
      "    accuracy                           0.95      1000\n",
      "   macro avg       0.79      0.91      0.84      1000\n",
      "weighted avg       0.97      0.95      0.96      1000\n",
      "\n"
     ]
    }
   ],
   "source": [
    "print(classification_report(Y_pred_lr1,Y_test))"
   ]
  },
  {
   "cell_type": "code",
   "execution_count": 61,
   "metadata": {},
   "outputs": [
    {
     "data": {
      "image/png": "[encoded data removed]",
      "text/plain": [
       "<Figure size 1440x720 with 1 Axes>"
      ]
     },
     "metadata": {},
     "output_type": "display_data"
    }
   ],
   "source": [
    "fpr, tpr, thresholds = roc_curve(Y_test,Y_pred_lr1)\n",
    "\n",
    "fig, ax = plt.subplots()\n",
    "ax.plot(fpr, tpr)\n",
    "ax.plot([0, 1], [0, 1], transform=ax.transAxes, ls=\"-\", c=\".3\")\n",
    "plt.xlim([0.0, 1.0])\n",
    "plt.ylim([0.0, 1.0])\n",
    "\n",
    "plt.rcParams['figure.figsize'] = (5, 5)\n",
    "plt.title('ROC curve for classifier', fontweight = 30)\n",
    "plt.xlabel('False Positive Rate')\n",
    "plt.ylabel('True Positive Rate')\n",
    "plt.show()"
   ]
  },
  {
   "cell_type": "markdown",
   "metadata": {},
   "source": [
    "# TRYING K FOLD CROSS VALIDATION"
   ]
  },
  {
   "cell_type": "code",
   "execution_count": 62,
   "metadata": {},
   "outputs": [],
   "source": [
    "from sklearn.model_selection import cross_val_score"
   ]
  },
  {
   "cell_type": "code",
   "execution_count": 65,
   "metadata": {},
   "outputs": [
    {
     "name": "stderr",
     "output_type": "stream",
     "text": [
      "C:\\Users\\hp\\Anaconda3\\lib\\site-packages\\sklearn\\linear_model\\_logistic.py:940: ConvergenceWarning: lbfgs failed to converge (status=1):\n",
      "STOP: TOTAL NO. of ITERATIONS REACHED LIMIT.\n",
      "\n",
      "Increase the number of iterations (max_iter) or scale the data as shown in:\n",
      "    https://scikit-learn.org/stable/modules/preprocessing.html\n",
      "Please also refer to the documentation for alternative solver options:\n",
      "    https://scikit-learn.org/stable/modules/linear_model.html#logistic-regression\n",
      "  extra_warning_msg=_LOGISTIC_SOLVER_CONVERGENCE_MSG)\n",
      "C:\\Users\\hp\\Anaconda3\\lib\\site-packages\\sklearn\\linear_model\\_logistic.py:940: ConvergenceWarning: lbfgs failed to converge (status=1):\n",
      "STOP: TOTAL NO. of ITERATIONS REACHED LIMIT.\n",
      "\n",
      "Increase the number of iterations (max_iter) or scale the data as shown in:\n",
      "    https://scikit-learn.org/stable/modules/preprocessing.html\n",
      "Please also refer to the documentation for alternative solver options:\n",
      "    https://scikit-learn.org/stable/modules/linear_model.html#logistic-regression\n",
      "  extra_warning_msg=_LOGISTIC_SOLVER_CONVERGENCE_MSG)\n",
      "C:\\Users\\hp\\Anaconda3\\lib\\site-packages\\sklearn\\linear_model\\_logistic.py:940: ConvergenceWarning: lbfgs failed to converge (status=1):\n",
      "STOP: TOTAL NO. of ITERATIONS REACHED LIMIT.\n",
      "\n",
      "Increase the number of iterations (max_iter) or scale the data as shown in:\n",
      "    https://scikit-learn.org/stable/modules/preprocessing.html\n",
      "Please also refer to the documentation for alternative solver options:\n",
      "    https://scikit-learn.org/stable/modules/linear_model.html#logistic-regression\n",
      "  extra_warning_msg=_LOGISTIC_SOLVER_CONVERGENCE_MSG)\n",
      "C:\\Users\\hp\\Anaconda3\\lib\\site-packages\\sklearn\\linear_model\\_logistic.py:940: ConvergenceWarning: lbfgs failed to converge (status=1):\n",
      "STOP: TOTAL NO. of ITERATIONS REACHED LIMIT.\n",
      "\n",
      "Increase the number of iterations (max_iter) or scale the data as shown in:\n",
      "    https://scikit-learn.org/stable/modules/preprocessing.html\n",
      "Please also refer to the documentation for alternative solver options:\n",
      "    https://scikit-learn.org/stable/modules/linear_model.html#logistic-regression\n",
      "  extra_warning_msg=_LOGISTIC_SOLVER_CONVERGENCE_MSG)\n",
      "C:\\Users\\hp\\Anaconda3\\lib\\site-packages\\sklearn\\linear_model\\_logistic.py:940: ConvergenceWarning: lbfgs failed to converge (status=1):\n",
      "STOP: TOTAL NO. of ITERATIONS REACHED LIMIT.\n",
      "\n",
      "Increase the number of iterations (max_iter) or scale the data as shown in:\n",
      "    https://scikit-learn.org/stable/modules/preprocessing.html\n",
      "Please also refer to the documentation for alternative solver options:\n",
      "    https://scikit-learn.org/stable/modules/linear_model.html#logistic-regression\n",
      "  extra_warning_msg=_LOGISTIC_SOLVER_CONVERGENCE_MSG)\n",
      "C:\\Users\\hp\\Anaconda3\\lib\\site-packages\\sklearn\\linear_model\\_logistic.py:940: ConvergenceWarning: lbfgs failed to converge (status=1):\n",
      "STOP: TOTAL NO. of ITERATIONS REACHED LIMIT.\n",
      "\n",
      "Increase the number of iterations (max_iter) or scale the data as shown in:\n",
      "    https://scikit-learn.org/stable/modules/preprocessing.html\n",
      "Please also refer to the documentation for alternative solver options:\n",
      "    https://scikit-learn.org/stable/modules/linear_model.html#logistic-regression\n",
      "  extra_warning_msg=_LOGISTIC_SOLVER_CONVERGENCE_MSG)\n",
      "C:\\Users\\hp\\Anaconda3\\lib\\site-packages\\sklearn\\linear_model\\_logistic.py:940: ConvergenceWarning: lbfgs failed to converge (status=1):\n",
      "STOP: TOTAL NO. of ITERATIONS REACHED LIMIT.\n",
      "\n",
      "Increase the number of iterations (max_iter) or scale the data as shown in:\n",
      "    https://scikit-learn.org/stable/modules/preprocessing.html\n",
      "Please also refer to the documentation for alternative solver options:\n",
      "    https://scikit-learn.org/stable/modules/linear_model.html#logistic-regression\n",
      "  extra_warning_msg=_LOGISTIC_SOLVER_CONVERGENCE_MSG)\n",
      "C:\\Users\\hp\\Anaconda3\\lib\\site-packages\\sklearn\\linear_model\\_logistic.py:940: ConvergenceWarning: lbfgs failed to converge (status=1):\n",
      "STOP: TOTAL NO. of ITERATIONS REACHED LIMIT.\n",
      "\n",
      "Increase the number of iterations (max_iter) or scale the data as shown in:\n",
      "    https://scikit-learn.org/stable/modules/preprocessing.html\n",
      "Please also refer to the documentation for alternative solver options:\n",
      "    https://scikit-learn.org/stable/modules/linear_model.html#logistic-regression\n",
      "  extra_warning_msg=_LOGISTIC_SOLVER_CONVERGENCE_MSG)\n",
      "C:\\Users\\hp\\Anaconda3\\lib\\site-packages\\sklearn\\linear_model\\_logistic.py:940: ConvergenceWarning: lbfgs failed to converge (status=1):\n",
      "STOP: TOTAL NO. of ITERATIONS REACHED LIMIT.\n",
      "\n",
      "Increase the number of iterations (max_iter) or scale the data as shown in:\n",
      "    https://scikit-learn.org/stable/modules/preprocessing.html\n",
      "Please also refer to the documentation for alternative solver options:\n",
      "    https://scikit-learn.org/stable/modules/linear_model.html#logistic-regression\n",
      "  extra_warning_msg=_LOGISTIC_SOLVER_CONVERGENCE_MSG)\n",
      "C:\\Users\\hp\\Anaconda3\\lib\\site-packages\\sklearn\\linear_model\\_logistic.py:940: ConvergenceWarning: lbfgs failed to converge (status=1):\n",
      "STOP: TOTAL NO. of ITERATIONS REACHED LIMIT.\n",
      "\n",
      "Increase the number of iterations (max_iter) or scale the data as shown in:\n",
      "    https://scikit-learn.org/stable/modules/preprocessing.html\n",
      "Please also refer to the documentation for alternative solver options:\n",
      "    https://scikit-learn.org/stable/modules/linear_model.html#logistic-regression\n",
      "  extra_warning_msg=_LOGISTIC_SOLVER_CONVERGENCE_MSG)\n"
     ]
    }
   ],
   "source": [
    "score=cross_val_score(lr1,x,y,cv=10)"
   ]
  },
  {
   "cell_type": "code",
   "execution_count": 66,
   "metadata": {},
   "outputs": [
    {
     "data": {
      "text/plain": [
       "array([0.952, 0.942, 0.95 , 0.934, 0.948, 0.952, 0.96 , 0.938, 0.966,\n",
       "       0.938])"
      ]
     },
     "execution_count": 66,
     "metadata": {},
     "output_type": "execute_result"
    }
   ],
   "source": [
    "score"
   ]
  },
  {
   "cell_type": "code",
   "execution_count": 67,
   "metadata": {},
   "outputs": [
    {
     "data": {
      "text/plain": [
       "0.9480000000000001"
      ]
     },
     "execution_count": 67,
     "metadata": {},
     "output_type": "execute_result"
    }
   ],
   "source": [
    "score.mean()"
   ]
  },
  {
   "cell_type": "code",
   "execution_count": 68,
   "metadata": {},
   "outputs": [],
   "source": [
    "# So by k fold cross validation we get that our model's accuracy will lie from 93.4% to 96.6% with a mean of 94.7%"
   ]
  },
  {
   "cell_type": "code",
   "execution_count": 69,
   "metadata": {},
   "outputs": [],
   "source": [
    "#No we have to oversample the data by using SMOTE ALgorithm as our True negatives are less.Here you can also use Nearmiss(undersampling) and check for the accuracy."
   ]
  },
  {
   "cell_type": "code",
   "execution_count": 70,
   "metadata": {},
   "outputs": [],
   "source": [
    "smt=SMOTE()\n",
    "x_new,y_new= smt.fit_sample(x, y)"
   ]
  },
  {
   "cell_type": "code",
   "execution_count": 71,
   "metadata": {},
   "outputs": [],
   "source": [
    "X_train,X_test,Y_train,Y_test = train_test_split(x_new,y_new,test_size=0.20,random_state=0)"
   ]
  },
  {
   "cell_type": "code",
   "execution_count": 72,
   "metadata": {},
   "outputs": [
    {
     "name": "stderr",
     "output_type": "stream",
     "text": [
      "C:\\Users\\hp\\Anaconda3\\lib\\site-packages\\sklearn\\linear_model\\_logistic.py:940: ConvergenceWarning: lbfgs failed to converge (status=1):\n",
      "STOP: TOTAL NO. of ITERATIONS REACHED LIMIT.\n",
      "\n",
      "Increase the number of iterations (max_iter) or scale the data as shown in:\n",
      "    https://scikit-learn.org/stable/modules/preprocessing.html\n",
      "Please also refer to the documentation for alternative solver options:\n",
      "    https://scikit-learn.org/stable/modules/linear_model.html#logistic-regression\n",
      "  extra_warning_msg=_LOGISTIC_SOLVER_CONVERGENCE_MSG)\n"
     ]
    }
   ],
   "source": [
    "from sklearn.linear_model import LogisticRegression\n",
    "\n",
    "lr = LogisticRegression()\n",
    "\n",
    "lr.fit(X_train,Y_train)\n",
    "\n",
    "Y_pred_lr = lr.predict(X_test)"
   ]
  },
  {
   "cell_type": "code",
   "execution_count": 73,
   "metadata": {},
   "outputs": [
    {
     "data": {
      "text/plain": [
       "array([3629, 3603], dtype=int64)"
      ]
     },
     "execution_count": 73,
     "metadata": {},
     "output_type": "execute_result"
    }
   ],
   "source": [
    "np.bincount(Y_train)"
   ]
  },
  {
   "cell_type": "code",
   "execution_count": 74,
   "metadata": {},
   "outputs": [
    {
     "name": "stdout",
     "output_type": "stream",
     "text": [
      "The accuracy score achieved using Logistic Regression is: 88.66 %\n"
     ]
    }
   ],
   "source": [
    "score_lr = round(accuracy_score(Y_pred_lr,Y_test)*100,2)\n",
    "\n",
    "print(\"The accuracy score achieved using Logistic Regression is: \"+str(score_lr)+\" %\")"
   ]
  },
  {
   "cell_type": "code",
   "execution_count": 75,
   "metadata": {},
   "outputs": [
    {
     "data": {
      "text/plain": [
       "array([[778, 113],\n",
       "       [ 92, 825]], dtype=int64)"
      ]
     },
     "execution_count": 75,
     "metadata": {},
     "output_type": "execute_result"
    }
   ],
   "source": [
    "results = confusion_matrix(Y_test, Y_pred_lr) \n",
    "results"
   ]
  },
  {
   "cell_type": "code",
   "execution_count": 76,
   "metadata": {},
   "outputs": [
    {
     "name": "stdout",
     "output_type": "stream",
     "text": [
      "              precision    recall  f1-score   support\n",
      "\n",
      "           0       0.87      0.89      0.88       870\n",
      "           1       0.90      0.88      0.89       938\n",
      "\n",
      "    accuracy                           0.89      1808\n",
      "   macro avg       0.89      0.89      0.89      1808\n",
      "weighted avg       0.89      0.89      0.89      1808\n",
      "\n"
     ]
    }
   ],
   "source": [
    "print(classification_report(Y_pred_lr,Y_test))"
   ]
  },
  {
   "cell_type": "code",
   "execution_count": 77,
   "metadata": {},
   "outputs": [
    {
     "data": {
      "image/png": "[encoded data removed]",
      "text/plain": [
       "<Figure size 360x360 with 1 Axes>"
      ]
     },
     "metadata": {},
     "output_type": "display_data"
    }
   ],
   "source": [
    "fpr, tpr, thresholds = roc_curve(Y_test,Y_pred_lr)\n",
    "\n",
    "fig, ax = plt.subplots()\n",
    "ax.plot(fpr, tpr)\n",
    "ax.plot([0, 1], [0, 1], transform=ax.transAxes, ls=\"-\", c=\".3\")\n",
    "plt.xlim([0.0, 1.0])\n",
    "plt.ylim([0.0, 1.0])\n",
    "\n",
    "plt.rcParams['figure.figsize'] = (5, 5)\n",
    "plt.title('ROC curve for classifier', fontweight = 30)\n",
    "plt.xlabel('False Positive Rate')\n",
    "plt.ylabel('True Positive Rate')\n",
    "plt.show()"
   ]
  },
  {
   "cell_type": "code",
   "execution_count": 78,
   "metadata": {},
   "outputs": [],
   "source": [
    "#Now our true negatives are also more so it now predicting well."
   ]
  },
  {
   "cell_type": "markdown",
   "metadata": {},
   "source": [
    "# NAIVE BAYES"
   ]
  },
  {
   "cell_type": "code",
   "execution_count": 79,
   "metadata": {},
   "outputs": [],
   "source": [
    "from sklearn.naive_bayes import GaussianNB\n",
    "\n",
    "nb = GaussianNB()\n",
    "\n",
    "nb.fit(X_train,Y_train)\n",
    "\n",
    "Y_pred_nb = nb.predict(X_test)"
   ]
  },
  {
   "cell_type": "code",
   "execution_count": 80,
   "metadata": {},
   "outputs": [
    {
     "name": "stdout",
     "output_type": "stream",
     "text": [
      "The accuracy score achieved using Naive Bayes is: 87.22 %\n"
     ]
    }
   ],
   "source": [
    "score_nb = round(accuracy_score(Y_pred_nb,Y_test)*100,2)\n",
    "\n",
    "print(\"The accuracy score achieved using Naive Bayes is: \"+str(score_nb)+\" %\")"
   ]
  },
  {
   "cell_type": "code",
   "execution_count": 81,
   "metadata": {},
   "outputs": [
    {
     "data": {
      "text/plain": [
       "array([[773, 118],\n",
       "       [113, 804]], dtype=int64)"
      ]
     },
     "execution_count": 81,
     "metadata": {},
     "output_type": "execute_result"
    }
   ],
   "source": [
    "results = confusion_matrix(Y_test, Y_pred_nb) \n",
    "results"
   ]
  },
  {
   "cell_type": "code",
   "execution_count": 82,
   "metadata": {},
   "outputs": [
    {
     "name": "stdout",
     "output_type": "stream",
     "text": [
      "              precision    recall  f1-score   support\n",
      "\n",
      "           0       0.87      0.87      0.87       886\n",
      "           1       0.88      0.87      0.87       922\n",
      "\n",
      "    accuracy                           0.87      1808\n",
      "   macro avg       0.87      0.87      0.87      1808\n",
      "weighted avg       0.87      0.87      0.87      1808\n",
      "\n"
     ]
    }
   ],
   "source": [
    "print(classification_report(Y_pred_nb,Y_test))"
   ]
  },
  {
   "cell_type": "code",
   "execution_count": 83,
   "metadata": {},
   "outputs": [
    {
     "data": {
      "image/png": "[encoded data removed]",
      "text/plain": [
       "<Figure size 360x360 with 1 Axes>"
      ]
     },
     "metadata": {},
     "output_type": "display_data"
    }
   ],
   "source": [
    "fpr, tpr, thresholds = roc_curve(Y_test,Y_pred_nb)\n",
    "\n",
    "fig, ax = plt.subplots()\n",
    "ax.plot(fpr, tpr)\n",
    "ax.plot([0, 1], [0, 1], transform=ax.transAxes, ls=\"-\", c=\".3\")\n",
    "plt.xlim([0.0, 1.0])\n",
    "plt.ylim([0.0, 1.0])\n",
    "\n",
    "plt.rcParams['figure.figsize'] = (5, 5)\n",
    "plt.title('ROC curve for classifier', fontweight = 30)\n",
    "plt.xlabel('False Positive Rate')\n",
    "plt.ylabel('True Positive Rate')\n",
    "plt.show()"
   ]
  },
  {
   "cell_type": "markdown",
   "metadata": {},
   "source": [
    "# K NEAREST NEIGHBORS "
   ]
  },
  {
   "cell_type": "code",
   "execution_count": 84,
   "metadata": {},
   "outputs": [],
   "source": [
    "from sklearn.neighbors import KNeighborsClassifier\n",
    "\n",
    "knn = KNeighborsClassifier(n_neighbors=7)\n",
    "knn.fit(X_train,Y_train)\n",
    "Y_pred_knn=knn.predict(X_test)"
   ]
  },
  {
   "cell_type": "code",
   "execution_count": 85,
   "metadata": {},
   "outputs": [
    {
     "name": "stdout",
     "output_type": "stream",
     "text": [
      "The accuracy score achieved using KNN is: 91.26 %\n"
     ]
    }
   ],
   "source": [
    "score_knn = round(accuracy_score(Y_pred_knn,Y_test)*100,2)\n",
    "\n",
    "print(\"The accuracy score achieved using KNN is: \"+str(score_knn)+\" %\")"
   ]
  },
  {
   "cell_type": "code",
   "execution_count": 86,
   "metadata": {},
   "outputs": [
    {
     "data": {
      "text/plain": [
       "array([[755, 136],\n",
       "       [ 22, 895]], dtype=int64)"
      ]
     },
     "execution_count": 86,
     "metadata": {},
     "output_type": "execute_result"
    }
   ],
   "source": [
    "results = confusion_matrix(Y_test, Y_pred_knn) \n",
    "results"
   ]
  },
  {
   "cell_type": "code",
   "execution_count": 87,
   "metadata": {},
   "outputs": [
    {
     "name": "stdout",
     "output_type": "stream",
     "text": [
      "              precision    recall  f1-score   support\n",
      "\n",
      "           0       0.85      0.97      0.91       777\n",
      "           1       0.98      0.87      0.92      1031\n",
      "\n",
      "    accuracy                           0.91      1808\n",
      "   macro avg       0.91      0.92      0.91      1808\n",
      "weighted avg       0.92      0.91      0.91      1808\n",
      "\n"
     ]
    }
   ],
   "source": [
    "print(classification_report(Y_pred_knn,Y_test))"
   ]
  },
  {
   "cell_type": "code",
   "execution_count": 88,
   "metadata": {},
   "outputs": [
    {
     "data": {
      "image/png": "[encoded data removed]",
      "text/plain": [
       "<Figure size 360x360 with 1 Axes>"
      ]
     },
     "metadata": {},
     "output_type": "display_data"
    }
   ],
   "source": [
    "fpr, tpr, thresholds = roc_curve(Y_test,Y_pred_knn)\n",
    "\n",
    "fig, ax = plt.subplots()\n",
    "ax.plot(fpr, tpr)\n",
    "ax.plot([0, 1], [0, 1], transform=ax.transAxes, ls=\"-\", c=\".3\")\n",
    "plt.xlim([0.0, 1.0])\n",
    "plt.ylim([0.0, 1.0])\n",
    "\n",
    "plt.rcParams['figure.figsize'] = (5, 5)\n",
    "plt.title('ROC curve for classifier', fontweight = 30)\n",
    "plt.xlabel('False Positive Rate')\n",
    "plt.ylabel('True Positive Rate')\n",
    "plt.show()"
   ]
  },
  {
   "cell_type": "markdown",
   "metadata": {},
   "source": [
    "# DECISION TREE"
   ]
  },
  {
   "cell_type": "code",
   "execution_count": 89,
   "metadata": {},
   "outputs": [],
   "source": [
    "from sklearn.tree import DecisionTreeClassifier\n",
    "\n",
    "max_accuracy = 0\n",
    "\n",
    "\n",
    "for x in range(200):\n",
    "    dt = DecisionTreeClassifier(random_state=x)\n",
    "    dt.fit(X_train,Y_train)\n",
    "    Y_pred_dt = dt.predict(X_test)\n",
    "    current_accuracy = round(accuracy_score(Y_pred_dt,Y_test)*100,2)\n",
    "    if(current_accuracy>max_accuracy):\n",
    "        max_accuracy = current_accuracy\n",
    "        best_x = x\n",
    "        \n",
    "\n",
    "\n",
    "dt = DecisionTreeClassifier(random_state=best_x)\n",
    "dt.fit(X_train,Y_train)\n",
    "Y_pred_dt = dt.predict(X_test)"
   ]
  },
  {
   "cell_type": "code",
   "execution_count": 90,
   "metadata": {},
   "outputs": [
    {
     "name": "stdout",
     "output_type": "stream",
     "text": [
      "The accuracy score achieved using Decision Tree is: 98.29 %\n"
     ]
    }
   ],
   "source": [
    "score_dt = round(accuracy_score(Y_pred_dt,Y_test)*100,2)\n",
    "\n",
    "print(\"The accuracy score achieved using Decision Tree is: \"+str(score_dt)+\" %\")"
   ]
  },
  {
   "cell_type": "code",
   "execution_count": 91,
   "metadata": {},
   "outputs": [
    {
     "data": {
      "text/plain": [
       "array([[879,  12],\n",
       "       [ 19, 898]], dtype=int64)"
      ]
     },
     "execution_count": 91,
     "metadata": {},
     "output_type": "execute_result"
    }
   ],
   "source": [
    "results = confusion_matrix(Y_test, Y_pred_dt) \n",
    "results"
   ]
  },
  {
   "cell_type": "code",
   "execution_count": 92,
   "metadata": {},
   "outputs": [
    {
     "name": "stdout",
     "output_type": "stream",
     "text": [
      "              precision    recall  f1-score   support\n",
      "\n",
      "           0       0.99      0.98      0.98       898\n",
      "           1       0.98      0.99      0.98       910\n",
      "\n",
      "    accuracy                           0.98      1808\n",
      "   macro avg       0.98      0.98      0.98      1808\n",
      "weighted avg       0.98      0.98      0.98      1808\n",
      "\n"
     ]
    }
   ],
   "source": [
    "print(classification_report(Y_pred_dt,Y_test))"
   ]
  },
  {
   "cell_type": "code",
   "execution_count": 93,
   "metadata": {},
   "outputs": [
    {
     "data": {
      "image/png": "[encoded data removed]",
      "text/plain": [
       "<Figure size 360x360 with 1 Axes>"
      ]
     },
     "metadata": {},
     "output_type": "display_data"
    }
   ],
   "source": [
    "fpr, tpr, thresholds = roc_curve(Y_test,Y_pred_dt)\n",
    "\n",
    "fig, ax = plt.subplots()\n",
    "ax.plot(fpr, tpr)\n",
    "ax.plot([0, 1], [0, 1], transform=ax.transAxes, ls=\"-\", c=\".3\")\n",
    "plt.xlim([0.0, 1.0])\n",
    "plt.ylim([0.0, 1.0])\n",
    "\n",
    "plt.rcParams['figure.figsize'] = (5, 5)\n",
    "plt.title('ROC curve for classifier', fontweight = 30)\n",
    "plt.xlabel('False Positive Rate')\n",
    "plt.ylabel('True Positive Rate')\n",
    "plt.show()"
   ]
  },
  {
   "cell_type": "markdown",
   "metadata": {},
   "source": [
    "# RANDOM FOREST"
   ]
  },
  {
   "cell_type": "code",
   "execution_count": 94,
   "metadata": {},
   "outputs": [],
   "source": [
    "from sklearn.ensemble import RandomForestClassifier"
   ]
  },
  {
   "cell_type": "code",
   "execution_count": 95,
   "metadata": {},
   "outputs": [],
   "source": [
    "model=RandomForestClassifier()"
   ]
  },
  {
   "cell_type": "code",
   "execution_count": 96,
   "metadata": {},
   "outputs": [
    {
     "data": {
      "text/plain": [
       "RandomForestClassifier(bootstrap=True, ccp_alpha=0.0, class_weight=None,\n",
       "                       criterion='gini', max_depth=None, max_features='auto',\n",
       "                       max_leaf_nodes=None, max_samples=None,\n",
       "                       min_impurity_decrease=0.0, min_impurity_split=None,\n",
       "                       min_samples_leaf=1, min_samples_split=2,\n",
       "                       min_weight_fraction_leaf=0.0, n_estimators=100,\n",
       "                       n_jobs=None, oob_score=False, random_state=None,\n",
       "                       verbose=0, warm_start=False)"
      ]
     },
     "execution_count": 96,
     "metadata": {},
     "output_type": "execute_result"
    }
   ],
   "source": [
    "model.fit(X_train,Y_train)"
   ]
  },
  {
   "cell_type": "code",
   "execution_count": 97,
   "metadata": {},
   "outputs": [],
   "source": [
    "Y_pred_rf=model.predict(X_test)"
   ]
  },
  {
   "cell_type": "code",
   "execution_count": 98,
   "metadata": {},
   "outputs": [
    {
     "name": "stdout",
     "output_type": "stream",
     "text": [
      "The accuracy score achieved using Random Forest is: 98.45 %\n"
     ]
    }
   ],
   "source": [
    "score_rf = round(accuracy_score(Y_pred_rf,Y_test)*100,2)\n",
    "\n",
    "print(\"The accuracy score achieved using Random Forest is: \"+str(score_rf)+\" %\")"
   ]
  },
  {
   "cell_type": "code",
   "execution_count": 99,
   "metadata": {},
   "outputs": [
    {
     "data": {
      "text/plain": [
       "array([[875,  16],\n",
       "       [ 12, 905]], dtype=int64)"
      ]
     },
     "execution_count": 99,
     "metadata": {},
     "output_type": "execute_result"
    }
   ],
   "source": [
    "confusion_matrix(Y_test,Y_pred_rf)"
   ]
  },
  {
   "cell_type": "code",
   "execution_count": 100,
   "metadata": {},
   "outputs": [
    {
     "name": "stdout",
     "output_type": "stream",
     "text": [
      "              precision    recall  f1-score   support\n",
      "\n",
      "           0       0.98      0.99      0.98       887\n",
      "           1       0.99      0.98      0.98       921\n",
      "\n",
      "    accuracy                           0.98      1808\n",
      "   macro avg       0.98      0.98      0.98      1808\n",
      "weighted avg       0.98      0.98      0.98      1808\n",
      "\n"
     ]
    }
   ],
   "source": [
    "print(classification_report(Y_pred_rf,Y_test))"
   ]
  },
  {
   "cell_type": "code",
   "execution_count": 101,
   "metadata": {},
   "outputs": [
    {
     "data": {
      "image/png": "[encoded data removed]",
      "text/plain": [
       "<Figure size 360x360 with 1 Axes>"
      ]
     },
     "metadata": {},
     "output_type": "display_data"
    }
   ],
   "source": [
    "fpr, tpr, thresholds = roc_curve(Y_test,Y_pred_rf)\n",
    "\n",
    "fig, ax = plt.subplots()\n",
    "ax.plot(fpr, tpr)\n",
    "ax.plot([0, 1], [0, 1], transform=ax.transAxes, ls=\"-\", c=\".3\")\n",
    "plt.xlim([0.0, 1.0])\n",
    "plt.ylim([0.0, 1.0])\n",
    "\n",
    "plt.rcParams['figure.figsize'] = (5, 5)\n",
    "plt.title('ROC curve for classifier', fontweight = 30)\n",
    "plt.xlabel('False Positive Rate')\n",
    "plt.ylabel('True Positive Rate')\n",
    "plt.show()"
   ]
  },
  {
   "cell_type": "markdown",
   "metadata": {},
   "source": [
    "# XGBOOST"
   ]
  },
  {
   "cell_type": "code",
   "execution_count": 102,
   "metadata": {},
   "outputs": [],
   "source": [
    "# pip install xgboost"
   ]
  },
  {
   "cell_type": "code",
   "execution_count": 103,
   "metadata": {},
   "outputs": [],
   "source": [
    "import xgboost as xgb\n",
    "\n",
    "xgb_model = xgb.XGBClassifier(objective=\"binary:logistic\", random_state=42)\n",
    "xgb_model.fit(X_train, Y_train)\n",
    "\n",
    "Y_pred_xgb = xgb_model.predict(X_test)"
   ]
  },
  {
   "cell_type": "code",
   "execution_count": 104,
   "metadata": {},
   "outputs": [
    {
     "name": "stdout",
     "output_type": "stream",
     "text": [
      "The accuracy score achieved using XGBoost is: 98.95 %\n"
     ]
    }
   ],
   "source": [
    "score_xgb = round(accuracy_score(Y_pred_xgb,Y_test)*100,2)\n",
    "\n",
    "print(\"The accuracy score achieved using XGBoost is: \"+str(score_xgb)+\" %\")"
   ]
  },
  {
   "cell_type": "code",
   "execution_count": 105,
   "metadata": {},
   "outputs": [
    {
     "data": {
      "text/plain": [
       "array([[881,  10],\n",
       "       [  9, 908]], dtype=int64)"
      ]
     },
     "execution_count": 105,
     "metadata": {},
     "output_type": "execute_result"
    }
   ],
   "source": [
    "confusion_matrix(Y_test,Y_pred_xgb)"
   ]
  },
  {
   "cell_type": "code",
   "execution_count": 106,
   "metadata": {},
   "outputs": [
    {
     "name": "stdout",
     "output_type": "stream",
     "text": [
      "              precision    recall  f1-score   support\n",
      "\n",
      "           0       0.99      0.99      0.99       890\n",
      "           1       0.99      0.99      0.99       918\n",
      "\n",
      "    accuracy                           0.99      1808\n",
      "   macro avg       0.99      0.99      0.99      1808\n",
      "weighted avg       0.99      0.99      0.99      1808\n",
      "\n"
     ]
    }
   ],
   "source": [
    "print(classification_report(Y_pred_xgb,Y_test))"
   ]
  },
  {
   "cell_type": "code",
   "execution_count": 107,
   "metadata": {},
   "outputs": [
    {
     "data": {
      "image/png": "[encoded data removed]",
      "text/plain": [
       "<Figure size 360x360 with 1 Axes>"
      ]
     },
     "metadata": {},
     "output_type": "display_data"
    }
   ],
   "source": [
    "fpr, tpr, thresholds = roc_curve(Y_test,Y_pred_xgb)\n",
    "\n",
    "fig, ax = plt.subplots()\n",
    "ax.plot(fpr, tpr)\n",
    "ax.plot([0, 1], [0, 1], transform=ax.transAxes, ls=\"-\", c=\".3\")\n",
    "plt.xlim([0.0, 1.0])\n",
    "plt.ylim([0.0, 1.0])\n",
    "\n",
    "plt.rcParams['figure.figsize'] = (5, 5)\n",
    "plt.title('ROC curve for classifier', fontweight = 30)\n",
    "plt.xlabel('False Positive Rate')\n",
    "plt.ylabel('True Positive Rate')\n",
    "plt.show()"
   ]
  },
  {
   "cell_type": "code",
   "execution_count": 108,
   "metadata": {},
   "outputs": [
    {
     "name": "stdout",
     "output_type": "stream",
     "text": [
      "AUC Score : 0.9894810212876372\n"
     ]
    }
   ],
   "source": [
    "auc = auc(fpr, tpr)\n",
    "print(\"AUC Score :\", auc)"
   ]
  },
  {
   "cell_type": "markdown",
   "metadata": {},
   "source": [
    "# NEURAL NETWORK"
   ]
  },
  {
   "cell_type": "code",
   "execution_count": 109,
   "metadata": {},
   "outputs": [],
   "source": [
    "from keras.models import Sequential\n",
    "from keras.layers import Dense"
   ]
  },
  {
   "cell_type": "code",
   "execution_count": 110,
   "metadata": {},
   "outputs": [],
   "source": [
    "model = Sequential()\n",
    "model.add(Dense(11,activation='relu',input_dim=11))\n",
    "model.add(Dense(1,activation='sigmoid'))\n",
    "\n",
    "model.compile(loss='binary_crossentropy',optimizer='adam',metrics=['accuracy'])"
   ]
  },
  {
   "cell_type": "code",
   "execution_count": 111,
   "metadata": {},
   "outputs": [
    {
     "name": "stdout",
     "output_type": "stream",
     "text": [
      "Epoch 1/300\n",
      "7232/7232 [==============================] - 2s 294us/step - loss: 2.6036 - accuracy: 0.5534\n",
      "Epoch 2/300\n",
      "7232/7232 [==============================] - 0s 61us/step - loss: 0.5865 - accuracy: 0.7385\n",
      "Epoch 3/300\n",
      "7232/7232 [==============================] - 0s 61us/step - loss: 0.3957 - accuracy: 0.8500\n",
      "Epoch 4/300\n",
      "7232/7232 [==============================] - 0s 64us/step - loss: 0.3552 - accuracy: 0.8673\n",
      "Epoch 5/300\n",
      "7232/7232 [==============================] - 0s 65us/step - loss: 0.3381 - accuracy: 0.8751\n",
      "Epoch 6/300\n",
      "7232/7232 [==============================] - 0s 60us/step - loss: 0.3191 - accuracy: 0.8796\n",
      "Epoch 7/300\n",
      "7232/7232 [==============================] - 0s 60us/step - loss: 0.3079 - accuracy: 0.8855\n",
      "Epoch 8/300\n",
      "7232/7232 [==============================] - 0s 60us/step - loss: 0.3003 - accuracy: 0.8879\n",
      "Epoch 9/300\n",
      "7232/7232 [==============================] - 0s 60us/step - loss: 0.2929 - accuracy: 0.8899\n",
      "Epoch 10/300\n",
      "7232/7232 [==============================] - 0s 61us/step - loss: 0.2877 - accuracy: 0.8880\n",
      "Epoch 11/300\n",
      "7232/7232 [==============================] - 0s 62us/step - loss: 0.2832 - accuracy: 0.8912\n",
      "Epoch 12/300\n",
      "7232/7232 [==============================] - 0s 59us/step - loss: 0.2766 - accuracy: 0.8930\n",
      "Epoch 13/300\n",
      "7232/7232 [==============================] - 0s 65us/step - loss: 0.2710 - accuracy: 0.8956\n",
      "Epoch 14/300\n",
      "7232/7232 [==============================] - 0s 63us/step - loss: 0.2688 - accuracy: 0.8959\n",
      "Epoch 15/300\n",
      "7232/7232 [==============================] - 0s 63us/step - loss: 0.2664 - accuracy: 0.8985\n",
      "Epoch 16/300\n",
      "7232/7232 [==============================] - 0s 61us/step - loss: 0.2656 - accuracy: 0.8948\n",
      "Epoch 17/300\n",
      "7232/7232 [==============================] - 0s 59us/step - loss: 0.2651 - accuracy: 0.8935\n",
      "Epoch 18/300\n",
      "7232/7232 [==============================] - 0s 66us/step - loss: 0.2600 - accuracy: 0.8974\n",
      "Epoch 19/300\n",
      "7232/7232 [==============================] - 1s 72us/step - loss: 0.2604 - accuracy: 0.8992\n",
      "Epoch 20/300\n",
      "7232/7232 [==============================] - 0s 66us/step - loss: 0.2543 - accuracy: 0.8992\n",
      "Epoch 21/300\n",
      "7232/7232 [==============================] - 0s 63us/step - loss: 0.2587 - accuracy: 0.8955\n",
      "Epoch 22/300\n",
      "7232/7232 [==============================] - 0s 61us/step - loss: 0.2506 - accuracy: 0.8999\n",
      "Epoch 23/300\n",
      "7232/7232 [==============================] - 0s 61us/step - loss: 0.2510 - accuracy: 0.9007\n",
      "Epoch 24/300\n",
      "7232/7232 [==============================] - 0s 61us/step - loss: 0.2490 - accuracy: 0.9017\n",
      "Epoch 25/300\n",
      "7232/7232 [==============================] - 0s 61us/step - loss: 0.2508 - accuracy: 0.9006\n",
      "Epoch 26/300\n",
      "7232/7232 [==============================] - 0s 61us/step - loss: 0.2436 - accuracy: 0.9013\n",
      "Epoch 27/300\n",
      "7232/7232 [==============================] - 0s 61us/step - loss: 0.2446 - accuracy: 0.9036\n",
      "Epoch 28/300\n",
      "7232/7232 [==============================] - 0s 61us/step - loss: 0.2369 - accuracy: 0.9064\n",
      "Epoch 29/300\n",
      "7232/7232 [==============================] - 0s 61us/step - loss: 0.2304 - accuracy: 0.9087\n",
      "Epoch 30/300\n",
      "7232/7232 [==============================] - 0s 60us/step - loss: 0.2218 - accuracy: 0.9121\n",
      "Epoch 31/300\n",
      "7232/7232 [==============================] - 0s 61us/step - loss: 0.2171 - accuracy: 0.9115\n",
      "Epoch 32/300\n",
      "7232/7232 [==============================] - 0s 60us/step - loss: 0.2063 - accuracy: 0.9166\n",
      "Epoch 33/300\n",
      "7232/7232 [==============================] - 0s 60us/step - loss: 0.1999 - accuracy: 0.9163\n",
      "Epoch 34/300\n",
      "7232/7232 [==============================] - 0s 61us/step - loss: 0.1935 - accuracy: 0.9202\n",
      "Epoch 35/300\n",
      "7232/7232 [==============================] - 0s 61us/step - loss: 0.1861 - accuracy: 0.9220\n",
      "Epoch 36/300\n",
      "7232/7232 [==============================] - 0s 60us/step - loss: 0.1892 - accuracy: 0.9201\n",
      "Epoch 37/300\n",
      "7232/7232 [==============================] - 0s 67us/step - loss: 0.1808 - accuracy: 0.9242\n",
      "Epoch 38/300\n",
      "7232/7232 [==============================] - 0s 65us/step - loss: 0.1793 - accuracy: 0.9260\n",
      "Epoch 39/300\n",
      "7232/7232 [==============================] - 0s 65us/step - loss: 0.1732 - accuracy: 0.9259\n",
      "Epoch 40/300\n",
      "7232/7232 [==============================] - 0s 59us/step - loss: 0.1704 - accuracy: 0.9296\n",
      "Epoch 41/300\n",
      "7232/7232 [==============================] - 0s 65us/step - loss: 0.1678 - accuracy: 0.9288\n",
      "Epoch 42/300\n",
      "7232/7232 [==============================] - 0s 60us/step - loss: 0.1637 - accuracy: 0.9318\n",
      "Epoch 43/300\n",
      "7232/7232 [==============================] - 0s 62us/step - loss: 0.1655 - accuracy: 0.9314\n",
      "Epoch 44/300\n",
      "7232/7232 [==============================] - 0s 61us/step - loss: 0.1619 - accuracy: 0.9328\n",
      "Epoch 45/300\n",
      "7232/7232 [==============================] - 0s 62us/step - loss: 0.1588 - accuracy: 0.9347\n",
      "Epoch 46/300\n",
      "7232/7232 [==============================] - 0s 61us/step - loss: 0.1640 - accuracy: 0.9298\n",
      "Epoch 47/300\n",
      "7232/7232 [==============================] - 0s 64us/step - loss: 0.1590 - accuracy: 0.9334\n",
      "Epoch 48/300\n",
      "7232/7232 [==============================] - 0s 64us/step - loss: 0.1573 - accuracy: 0.9345\n",
      "Epoch 49/300\n",
      "7232/7232 [==============================] - 0s 60us/step - loss: 0.1564 - accuracy: 0.9358\n",
      "Epoch 50/300\n",
      "7232/7232 [==============================] - 0s 60us/step - loss: 0.1517 - accuracy: 0.9374\n",
      "Epoch 51/300\n",
      "7232/7232 [==============================] - 0s 60us/step - loss: 0.1568 - accuracy: 0.9342\n",
      "Epoch 52/300\n",
      "7232/7232 [==============================] - 0s 61us/step - loss: 0.1505 - accuracy: 0.9343\n",
      "Epoch 53/300\n",
      "7232/7232 [==============================] - 0s 60us/step - loss: 0.1515 - accuracy: 0.9349\n",
      "Epoch 54/300\n",
      "7232/7232 [==============================] - 0s 60us/step - loss: 0.1500 - accuracy: 0.9369\n",
      "Epoch 55/300\n",
      "7232/7232 [==============================] - 0s 58us/step - loss: 0.1495 - accuracy: 0.9343\n",
      "Epoch 56/300\n",
      "7232/7232 [==============================] - 0s 60us/step - loss: 0.1491 - accuracy: 0.9371\n",
      "Epoch 57/300\n",
      "7232/7232 [==============================] - 0s 63us/step - loss: 0.1485 - accuracy: 0.9327\n",
      "Epoch 58/300\n",
      "7232/7232 [==============================] - 0s 61us/step - loss: 0.1452 - accuracy: 0.9378\n",
      "Epoch 59/300\n",
      "7232/7232 [==============================] - 0s 64us/step - loss: 0.1480 - accuracy: 0.9367\n",
      "Epoch 60/300\n",
      "7232/7232 [==============================] - 0s 61us/step - loss: 0.1529 - accuracy: 0.9328\n",
      "Epoch 61/300\n",
      "7232/7232 [==============================] - 0s 62us/step - loss: 0.1415 - accuracy: 0.9390\n",
      "Epoch 62/300\n",
      "7232/7232 [==============================] - 0s 66us/step - loss: 0.1443 - accuracy: 0.9378\n",
      "Epoch 63/300\n",
      "7232/7232 [==============================] - 0s 66us/step - loss: 0.1410 - accuracy: 0.9408\n",
      "Epoch 64/300\n",
      "7232/7232 [==============================] - 0s 66us/step - loss: 0.1473 - accuracy: 0.9351\n",
      "Epoch 65/300\n",
      "7232/7232 [==============================] - 0s 63us/step - loss: 0.1440 - accuracy: 0.9385\n",
      "Epoch 66/300\n",
      "7232/7232 [==============================] - 0s 59us/step - loss: 0.1446 - accuracy: 0.9381\n",
      "Epoch 67/300\n",
      "7232/7232 [==============================] - 0s 59us/step - loss: 0.1462 - accuracy: 0.9397\n",
      "Epoch 68/300\n",
      "7232/7232 [==============================] - 0s 66us/step - loss: 0.1451 - accuracy: 0.9387\n",
      "Epoch 69/300\n",
      "7232/7232 [==============================] - 0s 62us/step - loss: 0.1430 - accuracy: 0.9385\n",
      "Epoch 70/300\n",
      "7232/7232 [==============================] - 0s 63us/step - loss: 0.1447 - accuracy: 0.9376\n",
      "Epoch 71/300\n",
      "7232/7232 [==============================] - 0s 60us/step - loss: 0.1429 - accuracy: 0.9371\n",
      "Epoch 72/300\n",
      "7232/7232 [==============================] - 0s 65us/step - loss: 0.1430 - accuracy: 0.9383\n",
      "Epoch 73/300\n",
      "7232/7232 [==============================] - 0s 64us/step - loss: 0.1431 - accuracy: 0.9372\n",
      "Epoch 74/300\n",
      "7232/7232 [==============================] - 0s 65us/step - loss: 0.1415 - accuracy: 0.9364\n",
      "Epoch 75/300\n",
      "7232/7232 [==============================] - 0s 64us/step - loss: 0.1388 - accuracy: 0.9410\n",
      "Epoch 76/300\n",
      "7232/7232 [==============================] - 1s 80us/step - loss: 0.1467 - accuracy: 0.9353\n",
      "Epoch 77/300\n",
      "7232/7232 [==============================] - 1s 71us/step - loss: 0.1374 - accuracy: 0.9403\n",
      "Epoch 78/300\n",
      "7232/7232 [==============================] - 0s 56us/step - loss: 0.1395 - accuracy: 0.9403\n",
      "Epoch 79/300\n",
      "7232/7232 [==============================] - 0s 57us/step - loss: 0.1427 - accuracy: 0.9390\n",
      "Epoch 80/300\n",
      "7232/7232 [==============================] - 0s 58us/step - loss: 0.1407 - accuracy: 0.9390\n",
      "Epoch 81/300\n",
      "7232/7232 [==============================] - 0s 66us/step - loss: 0.1389 - accuracy: 0.9414\n",
      "Epoch 82/300\n",
      "7232/7232 [==============================] - 0s 55us/step - loss: 0.1424 - accuracy: 0.9396\n",
      "Epoch 83/300\n",
      "7232/7232 [==============================] - 0s 64us/step - loss: 0.1478 - accuracy: 0.9374\n",
      "Epoch 84/300\n",
      "7232/7232 [==============================] - 0s 67us/step - loss: 0.1414 - accuracy: 0.9381\n",
      "Epoch 85/300\n",
      "7232/7232 [==============================] - 1s 76us/step - loss: 0.1428 - accuracy: 0.9394\n",
      "Epoch 86/300\n",
      "7232/7232 [==============================] - 0s 65us/step - loss: 0.1397 - accuracy: 0.9405\n",
      "Epoch 87/300\n",
      "7232/7232 [==============================] - 0s 62us/step - loss: 0.1420 - accuracy: 0.9381\n",
      "Epoch 88/300\n",
      "7232/7232 [==============================] - 0s 56us/step - loss: 0.1381 - accuracy: 0.9383\n",
      "Epoch 89/300\n",
      "7232/7232 [==============================] - 0s 55us/step - loss: 0.1399 - accuracy: 0.9390\n",
      "Epoch 90/300\n",
      "7232/7232 [==============================] - 0s 55us/step - loss: 0.1385 - accuracy: 0.9394\n",
      "Epoch 91/300\n",
      "7232/7232 [==============================] - 0s 59us/step - loss: 0.1376 - accuracy: 0.9415\n",
      "Epoch 92/300\n",
      "7232/7232 [==============================] - 1s 71us/step - loss: 0.1418 - accuracy: 0.9372\n",
      "Epoch 93/300\n",
      "7232/7232 [==============================] - 0s 67us/step - loss: 0.1415 - accuracy: 0.9376\n",
      "Epoch 94/300\n",
      "7232/7232 [==============================] - 1s 81us/step - loss: 0.1442 - accuracy: 0.9354\n",
      "Epoch 95/300\n",
      "7232/7232 [==============================] - 0s 68us/step - loss: 0.1399 - accuracy: 0.9419\n",
      "Epoch 96/300\n",
      "7232/7232 [==============================] - 1s 69us/step - loss: 0.1383 - accuracy: 0.9418\n",
      "Epoch 97/300\n",
      "7232/7232 [==============================] - 0s 60us/step - loss: 0.1363 - accuracy: 0.9392\n",
      "Epoch 98/300\n",
      "7232/7232 [==============================] - 1s 81us/step - loss: 0.1408 - accuracy: 0.9382\n",
      "Epoch 99/300\n",
      "7232/7232 [==============================] - 1s 71us/step - loss: 0.1374 - accuracy: 0.9412\n",
      "Epoch 100/300\n",
      "7232/7232 [==============================] - 1s 97us/step - loss: 0.1399 - accuracy: 0.9379\n",
      "Epoch 101/300\n",
      "7232/7232 [==============================] - 1s 76us/step - loss: 0.1372 - accuracy: 0.9399\n",
      "Epoch 102/300\n",
      "7232/7232 [==============================] - 1s 73us/step - loss: 0.1418 - accuracy: 0.9375\n",
      "Epoch 103/300\n",
      "7232/7232 [==============================] - 1s 69us/step - loss: 0.1450 - accuracy: 0.9396\n",
      "Epoch 104/300\n",
      "7232/7232 [==============================] - 0s 65us/step - loss: 0.1420 - accuracy: 0.9382\n",
      "Epoch 105/300\n",
      "7232/7232 [==============================] - 0s 61us/step - loss: 0.1371 - accuracy: 0.9408\n",
      "Epoch 106/300\n",
      "7232/7232 [==============================] - 1s 76us/step - loss: 0.1347 - accuracy: 0.9418\n",
      "Epoch 107/300\n",
      "7232/7232 [==============================] - 1s 74us/step - loss: 0.1390 - accuracy: 0.9393\n",
      "Epoch 108/300\n",
      "7232/7232 [==============================] - 0s 62us/step - loss: 0.1372 - accuracy: 0.9382\n",
      "Epoch 109/300\n",
      "7232/7232 [==============================] - 0s 67us/step - loss: 0.1404 - accuracy: 0.9392\n",
      "Epoch 110/300\n",
      "7232/7232 [==============================] - 0s 60us/step - loss: 0.1398 - accuracy: 0.9399\n",
      "Epoch 111/300\n",
      "7232/7232 [==============================] - 0s 60us/step - loss: 0.1466 - accuracy: 0.9351\n",
      "Epoch 112/300\n",
      "7232/7232 [==============================] - 0s 60us/step - loss: 0.1392 - accuracy: 0.9390\n",
      "Epoch 113/300\n",
      "7232/7232 [==============================] - 0s 59us/step - loss: 0.1359 - accuracy: 0.9389\n",
      "Epoch 114/300\n",
      "7232/7232 [==============================] - 0s 60us/step - loss: 0.1374 - accuracy: 0.9405\n",
      "Epoch 115/300\n",
      "7232/7232 [==============================] - 0s 60us/step - loss: 0.1381 - accuracy: 0.9379\n",
      "Epoch 116/300\n",
      "7232/7232 [==============================] - 0s 60us/step - loss: 0.1402 - accuracy: 0.9375\n",
      "Epoch 117/300\n",
      "7232/7232 [==============================] - 0s 63us/step - loss: 0.1374 - accuracy: 0.9381\n",
      "Epoch 118/300\n",
      "7232/7232 [==============================] - 0s 64us/step - loss: 0.1455 - accuracy: 0.9390\n",
      "Epoch 119/300\n",
      "7232/7232 [==============================] - 0s 63us/step - loss: 0.1356 - accuracy: 0.9401\n",
      "Epoch 120/300\n",
      "7232/7232 [==============================] - 0s 61us/step - loss: 0.1354 - accuracy: 0.9415\n",
      "Epoch 121/300\n",
      "7232/7232 [==============================] - 0s 60us/step - loss: 0.1358 - accuracy: 0.9393\n",
      "Epoch 122/300\n",
      "7232/7232 [==============================] - 0s 60us/step - loss: 0.1427 - accuracy: 0.9372\n",
      "Epoch 123/300\n",
      "7232/7232 [==============================] - 0s 63us/step - loss: 0.1355 - accuracy: 0.9405\n",
      "Epoch 124/300\n",
      "7232/7232 [==============================] - 0s 60us/step - loss: 0.1371 - accuracy: 0.9412\n",
      "Epoch 125/300\n",
      "7232/7232 [==============================] - 0s 60us/step - loss: 0.1373 - accuracy: 0.9374\n",
      "Epoch 126/300\n",
      "7232/7232 [==============================] - 0s 60us/step - loss: 0.1395 - accuracy: 0.9383\n",
      "Epoch 127/300\n",
      "7232/7232 [==============================] - 0s 63us/step - loss: 0.1398 - accuracy: 0.9396\n",
      "Epoch 128/300\n",
      "7232/7232 [==============================] - 0s 63us/step - loss: 0.1362 - accuracy: 0.9401\n",
      "Epoch 129/300\n",
      "7232/7232 [==============================] - 0s 63us/step - loss: 0.1369 - accuracy: 0.9392\n",
      "Epoch 130/300\n",
      "7232/7232 [==============================] - 0s 62us/step - loss: 0.1393 - accuracy: 0.9400\n",
      "Epoch 131/300\n",
      "7232/7232 [==============================] - 0s 67us/step - loss: 0.1349 - accuracy: 0.9405\n",
      "Epoch 132/300\n",
      "7232/7232 [==============================] - 0s 69us/step - loss: 0.1415 - accuracy: 0.9383\n",
      "Epoch 133/300\n",
      "7232/7232 [==============================] - 0s 64us/step - loss: 0.1398 - accuracy: 0.9401\n",
      "Epoch 134/300\n",
      "7232/7232 [==============================] - 0s 63us/step - loss: 0.1408 - accuracy: 0.9376\n",
      "Epoch 135/300\n",
      "7232/7232 [==============================] - 0s 64us/step - loss: 0.1364 - accuracy: 0.9393\n",
      "Epoch 136/300\n",
      "7232/7232 [==============================] - 0s 63us/step - loss: 0.1349 - accuracy: 0.9403\n",
      "Epoch 137/300\n",
      "7232/7232 [==============================] - 0s 63us/step - loss: 0.1378 - accuracy: 0.9410\n",
      "Epoch 138/300\n",
      "7232/7232 [==============================] - 0s 63us/step - loss: 0.1362 - accuracy: 0.9390\n",
      "Epoch 139/300\n",
      "7232/7232 [==============================] - 0s 64us/step - loss: 0.1347 - accuracy: 0.9393\n",
      "Epoch 140/300\n",
      "7232/7232 [==============================] - 0s 65us/step - loss: 0.1333 - accuracy: 0.9423\n",
      "Epoch 141/300\n",
      "7232/7232 [==============================] - 0s 66us/step - loss: 0.1355 - accuracy: 0.9401\n",
      "Epoch 142/300\n",
      "7232/7232 [==============================] - 0s 65us/step - loss: 0.1383 - accuracy: 0.9399\n",
      "Epoch 143/300\n",
      "7232/7232 [==============================] - 0s 63us/step - loss: 0.1391 - accuracy: 0.9390\n",
      "Epoch 144/300\n",
      "7232/7232 [==============================] - 0s 63us/step - loss: 0.1383 - accuracy: 0.9397\n",
      "Epoch 145/300\n",
      "7232/7232 [==============================] - 0s 60us/step - loss: 0.1377 - accuracy: 0.9386\n",
      "Epoch 146/300\n",
      "7232/7232 [==============================] - 0s 60us/step - loss: 0.1350 - accuracy: 0.9408\n",
      "Epoch 147/300\n",
      "7232/7232 [==============================] - 0s 60us/step - loss: 0.1369 - accuracy: 0.9387\n",
      "Epoch 148/300\n",
      "7232/7232 [==============================] - 0s 60us/step - loss: 0.1364 - accuracy: 0.9385\n",
      "Epoch 149/300\n",
      "7232/7232 [==============================] - 0s 61us/step - loss: 0.1412 - accuracy: 0.9383\n",
      "Epoch 150/300\n",
      "7232/7232 [==============================] - 0s 59us/step - loss: 0.1380 - accuracy: 0.9411\n",
      "Epoch 151/300\n",
      "7232/7232 [==============================] - 0s 60us/step - loss: 0.1330 - accuracy: 0.9408\n",
      "Epoch 152/300\n",
      "7232/7232 [==============================] - 0s 59us/step - loss: 0.1378 - accuracy: 0.9404\n",
      "Epoch 153/300\n",
      "7232/7232 [==============================] - 0s 61us/step - loss: 0.1343 - accuracy: 0.9416\n",
      "Epoch 154/300\n",
      "7232/7232 [==============================] - 0s 66us/step - loss: 0.1398 - accuracy: 0.9403\n",
      "Epoch 155/300\n",
      "7232/7232 [==============================] - 0s 64us/step - loss: 0.1346 - accuracy: 0.9412\n",
      "Epoch 156/300\n",
      "7232/7232 [==============================] - 0s 60us/step - loss: 0.1386 - accuracy: 0.9396\n",
      "Epoch 157/300\n",
      "7232/7232 [==============================] - 0s 60us/step - loss: 0.1360 - accuracy: 0.9404\n",
      "Epoch 158/300\n",
      "7232/7232 [==============================] - 0s 60us/step - loss: 0.1374 - accuracy: 0.9393\n",
      "Epoch 159/300\n",
      "7232/7232 [==============================] - 0s 60us/step - loss: 0.1382 - accuracy: 0.9383\n",
      "Epoch 160/300\n",
      "7232/7232 [==============================] - 0s 60us/step - loss: 0.1379 - accuracy: 0.9403\n",
      "Epoch 161/300\n",
      "7232/7232 [==============================] - 0s 60us/step - loss: 0.1356 - accuracy: 0.9410\n",
      "Epoch 162/300\n",
      "7232/7232 [==============================] - 0s 60us/step - loss: 0.1359 - accuracy: 0.9396\n",
      "Epoch 163/300\n",
      "7232/7232 [==============================] - 0s 60us/step - loss: 0.1381 - accuracy: 0.9385\n",
      "Epoch 164/300\n",
      "7232/7232 [==============================] - 0s 60us/step - loss: 0.1357 - accuracy: 0.9396\n",
      "Epoch 165/300\n",
      "7232/7232 [==============================] - 0s 61us/step - loss: 0.1360 - accuracy: 0.9411\n",
      "Epoch 166/300\n",
      "7232/7232 [==============================] - 0s 63us/step - loss: 0.1376 - accuracy: 0.9385\n",
      "Epoch 167/300\n",
      "7232/7232 [==============================] - 0s 61us/step - loss: 0.1399 - accuracy: 0.9374\n",
      "Epoch 168/300\n",
      "7232/7232 [==============================] - 0s 60us/step - loss: 0.1375 - accuracy: 0.9392\n",
      "Epoch 169/300\n",
      "7232/7232 [==============================] - 0s 60us/step - loss: 0.1460 - accuracy: 0.9385\n",
      "Epoch 170/300\n",
      "7232/7232 [==============================] - 0s 60us/step - loss: 0.1358 - accuracy: 0.9410\n",
      "Epoch 171/300\n",
      "7232/7232 [==============================] - 0s 59us/step - loss: 0.1346 - accuracy: 0.9415\n",
      "Epoch 172/300\n",
      "7232/7232 [==============================] - 0s 61us/step - loss: 0.1394 - accuracy: 0.9379\n",
      "Epoch 173/300\n",
      "7232/7232 [==============================] - 0s 60us/step - loss: 0.1384 - accuracy: 0.9400\n",
      "Epoch 174/300\n",
      "7232/7232 [==============================] - 0s 60us/step - loss: 0.1341 - accuracy: 0.9408\n",
      "Epoch 175/300\n",
      "7232/7232 [==============================] - 0s 60us/step - loss: 0.1359 - accuracy: 0.9411\n",
      "Epoch 176/300\n",
      "7232/7232 [==============================] - 0s 61us/step - loss: 0.1438 - accuracy: 0.9381\n",
      "Epoch 177/300\n",
      "7232/7232 [==============================] - 0s 60us/step - loss: 0.1368 - accuracy: 0.9387 0s - loss: 0.1449 - accu\n",
      "Epoch 178/300\n",
      "7232/7232 [==============================] - 0s 67us/step - loss: 0.1358 - accuracy: 0.9407\n",
      "Epoch 179/300\n",
      "7232/7232 [==============================] - 0s 64us/step - loss: 0.1402 - accuracy: 0.9372\n",
      "Epoch 180/300\n",
      "7232/7232 [==============================] - 0s 64us/step - loss: 0.1396 - accuracy: 0.9392\n",
      "Epoch 181/300\n",
      "7232/7232 [==============================] - 0s 64us/step - loss: 0.1355 - accuracy: 0.9411\n",
      "Epoch 182/300\n",
      "7232/7232 [==============================] - 0s 66us/step - loss: 0.1374 - accuracy: 0.9410\n",
      "Epoch 183/300\n",
      "7232/7232 [==============================] - 0s 66us/step - loss: 0.1340 - accuracy: 0.9405\n",
      "Epoch 184/300\n",
      "7232/7232 [==============================] - 0s 63us/step - loss: 0.1401 - accuracy: 0.9393\n",
      "Epoch 185/300\n",
      "7232/7232 [==============================] - 0s 62us/step - loss: 0.1317 - accuracy: 0.9432\n",
      "Epoch 186/300\n",
      "7232/7232 [==============================] - 0s 63us/step - loss: 0.1377 - accuracy: 0.9399\n",
      "Epoch 187/300\n",
      "7232/7232 [==============================] - 0s 65us/step - loss: 0.1362 - accuracy: 0.9414\n",
      "Epoch 188/300\n",
      "7232/7232 [==============================] - 0s 63us/step - loss: 0.1319 - accuracy: 0.9405\n",
      "Epoch 189/300\n",
      "7232/7232 [==============================] - 0s 66us/step - loss: 0.1376 - accuracy: 0.9414\n",
      "Epoch 190/300\n",
      "7232/7232 [==============================] - 0s 67us/step - loss: 0.1367 - accuracy: 0.9390\n",
      "Epoch 191/300\n",
      "7232/7232 [==============================] - 0s 65us/step - loss: 0.1367 - accuracy: 0.9405\n",
      "Epoch 192/300\n",
      "7232/7232 [==============================] - 0s 59us/step - loss: 0.1392 - accuracy: 0.9385\n",
      "Epoch 193/300\n",
      "7232/7232 [==============================] - 0s 60us/step - loss: 0.1376 - accuracy: 0.9397\n",
      "Epoch 194/300\n",
      "7232/7232 [==============================] - 0s 60us/step - loss: 0.1371 - accuracy: 0.9412\n",
      "Epoch 195/300\n",
      "7232/7232 [==============================] - 0s 61us/step - loss: 0.1332 - accuracy: 0.9425\n",
      "Epoch 196/300\n",
      "7232/7232 [==============================] - 0s 60us/step - loss: 0.1317 - accuracy: 0.9407\n",
      "Epoch 197/300\n",
      "7232/7232 [==============================] - 0s 60us/step - loss: 0.1345 - accuracy: 0.9414\n",
      "Epoch 198/300\n",
      "7232/7232 [==============================] - 0s 60us/step - loss: 0.1337 - accuracy: 0.9392\n",
      "Epoch 199/300\n",
      "7232/7232 [==============================] - 0s 60us/step - loss: 0.1367 - accuracy: 0.9397\n",
      "Epoch 200/300\n",
      "7232/7232 [==============================] - 0s 62us/step - loss: 0.1339 - accuracy: 0.9414\n",
      "Epoch 201/300\n",
      "7232/7232 [==============================] - 0s 62us/step - loss: 0.1377 - accuracy: 0.9401\n",
      "Epoch 202/300\n",
      "7232/7232 [==============================] - 0s 60us/step - loss: 0.1414 - accuracy: 0.9408\n",
      "Epoch 203/300\n",
      "7232/7232 [==============================] - 0s 61us/step - loss: 0.1347 - accuracy: 0.9426\n",
      "Epoch 204/300\n",
      "7232/7232 [==============================] - 0s 60us/step - loss: 0.1390 - accuracy: 0.9378\n",
      "Epoch 205/300\n",
      "7232/7232 [==============================] - 0s 60us/step - loss: 0.1378 - accuracy: 0.9407\n",
      "Epoch 206/300\n",
      "7232/7232 [==============================] - 0s 59us/step - loss: 0.1342 - accuracy: 0.9415\n",
      "Epoch 207/300\n",
      "7232/7232 [==============================] - 0s 60us/step - loss: 0.1345 - accuracy: 0.9399\n",
      "Epoch 208/300\n",
      "7232/7232 [==============================] - 0s 60us/step - loss: 0.1345 - accuracy: 0.9415\n",
      "Epoch 209/300\n",
      "7232/7232 [==============================] - 0s 60us/step - loss: 0.1378 - accuracy: 0.9385\n",
      "Epoch 210/300\n",
      "7232/7232 [==============================] - 0s 60us/step - loss: 0.1353 - accuracy: 0.9418\n",
      "Epoch 211/300\n",
      "7232/7232 [==============================] - 0s 60us/step - loss: 0.1367 - accuracy: 0.9396\n",
      "Epoch 212/300\n",
      "7232/7232 [==============================] - 0s 60us/step - loss: 0.1338 - accuracy: 0.9401\n",
      "Epoch 213/300\n",
      "7232/7232 [==============================] - 0s 60us/step - loss: 0.1369 - accuracy: 0.9405\n",
      "Epoch 214/300\n",
      "7232/7232 [==============================] - 0s 62us/step - loss: 0.1366 - accuracy: 0.9397\n",
      "Epoch 215/300\n",
      "7232/7232 [==============================] - 0s 62us/step - loss: 0.1323 - accuracy: 0.9423\n",
      "Epoch 216/300\n",
      "7232/7232 [==============================] - 0s 62us/step - loss: 0.1358 - accuracy: 0.9394\n",
      "Epoch 217/300\n",
      "7232/7232 [==============================] - 0s 64us/step - loss: 0.1344 - accuracy: 0.9397\n",
      "Epoch 218/300\n",
      "7232/7232 [==============================] - 0s 59us/step - loss: 0.1385 - accuracy: 0.9392\n",
      "Epoch 219/300\n",
      "7232/7232 [==============================] - 0s 60us/step - loss: 0.1359 - accuracy: 0.9386\n",
      "Epoch 220/300\n",
      "7232/7232 [==============================] - 0s 60us/step - loss: 0.1342 - accuracy: 0.9387\n",
      "Epoch 221/300\n",
      "7232/7232 [==============================] - 0s 62us/step - loss: 0.1320 - accuracy: 0.9416\n",
      "Epoch 222/300\n",
      "7232/7232 [==============================] - 0s 63us/step - loss: 0.1358 - accuracy: 0.9379\n",
      "Epoch 223/300\n",
      "7232/7232 [==============================] - 0s 63us/step - loss: 0.1343 - accuracy: 0.9419\n",
      "Epoch 224/300\n",
      "7232/7232 [==============================] - 0s 66us/step - loss: 0.1345 - accuracy: 0.9426\n",
      "Epoch 225/300\n",
      "7232/7232 [==============================] - 1s 72us/step - loss: 0.1364 - accuracy: 0.9414\n",
      "Epoch 226/300\n",
      "7232/7232 [==============================] - 0s 63us/step - loss: 0.1352 - accuracy: 0.9400\n",
      "Epoch 227/300\n",
      "7232/7232 [==============================] - 0s 63us/step - loss: 0.1352 - accuracy: 0.9419\n",
      "Epoch 228/300\n",
      "7232/7232 [==============================] - 0s 62us/step - loss: 0.1343 - accuracy: 0.9421\n",
      "Epoch 229/300\n",
      "7232/7232 [==============================] - 0s 64us/step - loss: 0.1340 - accuracy: 0.9419\n",
      "Epoch 230/300\n",
      "7232/7232 [==============================] - 0s 60us/step - loss: 0.1341 - accuracy: 0.9421\n",
      "Epoch 231/300\n",
      "7232/7232 [==============================] - 0s 60us/step - loss: 0.1343 - accuracy: 0.9432\n",
      "Epoch 232/300\n",
      "7232/7232 [==============================] - 0s 60us/step - loss: 0.1350 - accuracy: 0.9426\n",
      "Epoch 233/300\n",
      "7232/7232 [==============================] - 0s 60us/step - loss: 0.1313 - accuracy: 0.9403\n",
      "Epoch 234/300\n",
      "7232/7232 [==============================] - 0s 60us/step - loss: 0.1323 - accuracy: 0.9415\n",
      "Epoch 235/300\n",
      "7232/7232 [==============================] - 0s 60us/step - loss: 0.1375 - accuracy: 0.9393\n",
      "Epoch 236/300\n",
      "7232/7232 [==============================] - 0s 60us/step - loss: 0.1346 - accuracy: 0.9404\n",
      "Epoch 237/300\n",
      "7232/7232 [==============================] - 0s 63us/step - loss: 0.1391 - accuracy: 0.9383\n",
      "Epoch 238/300\n",
      "7232/7232 [==============================] - 0s 64us/step - loss: 0.1340 - accuracy: 0.9389\n",
      "Epoch 239/300\n",
      "7232/7232 [==============================] - 0s 60us/step - loss: 0.1309 - accuracy: 0.9439\n",
      "Epoch 240/300\n",
      "7232/7232 [==============================] - 0s 60us/step - loss: 0.1373 - accuracy: 0.9405\n",
      "Epoch 241/300\n",
      "7232/7232 [==============================] - 0s 60us/step - loss: 0.1328 - accuracy: 0.9419\n",
      "Epoch 242/300\n",
      "7232/7232 [==============================] - 0s 59us/step - loss: 0.1366 - accuracy: 0.9382\n",
      "Epoch 243/300\n",
      "7232/7232 [==============================] - 0s 60us/step - loss: 0.1348 - accuracy: 0.9396\n",
      "Epoch 244/300\n",
      "7232/7232 [==============================] - 0s 59us/step - loss: 0.1329 - accuracy: 0.9403\n",
      "Epoch 245/300\n",
      "7232/7232 [==============================] - 0s 61us/step - loss: 0.1365 - accuracy: 0.9401\n",
      "Epoch 246/300\n",
      "7232/7232 [==============================] - 0s 60us/step - loss: 0.1342 - accuracy: 0.9418\n",
      "Epoch 247/300\n",
      "7232/7232 [==============================] - 0s 60us/step - loss: 0.1346 - accuracy: 0.9403\n",
      "Epoch 248/300\n",
      "7232/7232 [==============================] - 0s 62us/step - loss: 0.1345 - accuracy: 0.9394\n",
      "Epoch 249/300\n",
      "7232/7232 [==============================] - 0s 61us/step - loss: 0.1352 - accuracy: 0.9396\n",
      "Epoch 250/300\n",
      "7232/7232 [==============================] - 0s 65us/step - loss: 0.1340 - accuracy: 0.9414\n",
      "Epoch 251/300\n",
      "7232/7232 [==============================] - 0s 66us/step - loss: 0.1311 - accuracy: 0.9423\n",
      "Epoch 252/300\n",
      "7232/7232 [==============================] - 0s 64us/step - loss: 0.1317 - accuracy: 0.9425\n",
      "Epoch 253/300\n",
      "7232/7232 [==============================] - 0s 60us/step - loss: 0.1368 - accuracy: 0.9422\n",
      "Epoch 254/300\n",
      "7232/7232 [==============================] - 0s 60us/step - loss: 0.1357 - accuracy: 0.9407\n",
      "Epoch 255/300\n",
      "7232/7232 [==============================] - 0s 60us/step - loss: 0.1340 - accuracy: 0.9410\n",
      "Epoch 256/300\n",
      "7232/7232 [==============================] - 0s 60us/step - loss: 0.1338 - accuracy: 0.9411\n",
      "Epoch 257/300\n",
      "7232/7232 [==============================] - 0s 61us/step - loss: 0.1323 - accuracy: 0.9403\n",
      "Epoch 258/300\n",
      "7232/7232 [==============================] - 0s 63us/step - loss: 0.1308 - accuracy: 0.9422\n",
      "Epoch 259/300\n",
      "7232/7232 [==============================] - 1s 69us/step - loss: 0.1313 - accuracy: 0.9429\n",
      "Epoch 260/300\n",
      "7232/7232 [==============================] - 1s 81us/step - loss: 0.1351 - accuracy: 0.9405\n",
      "Epoch 261/300\n",
      "7232/7232 [==============================] - 1s 69us/step - loss: 0.1370 - accuracy: 0.9403\n",
      "Epoch 262/300\n",
      "7232/7232 [==============================] - 0s 66us/step - loss: 0.1415 - accuracy: 0.9375\n",
      "Epoch 263/300\n",
      "7232/7232 [==============================] - 0s 63us/step - loss: 0.1354 - accuracy: 0.9376\n",
      "Epoch 264/300\n",
      "7232/7232 [==============================] - 0s 63us/step - loss: 0.1337 - accuracy: 0.9423\n",
      "Epoch 265/300\n",
      "7232/7232 [==============================] - 0s 64us/step - loss: 0.1330 - accuracy: 0.9397\n",
      "Epoch 266/300\n",
      "7232/7232 [==============================] - 0s 63us/step - loss: 0.1372 - accuracy: 0.9397\n",
      "Epoch 267/300\n",
      "7232/7232 [==============================] - 1s 73us/step - loss: 0.1318 - accuracy: 0.9418\n",
      "Epoch 268/300\n",
      "7232/7232 [==============================] - 0s 66us/step - loss: 0.1306 - accuracy: 0.9415\n",
      "Epoch 269/300\n",
      "7232/7232 [==============================] - 1s 75us/step - loss: 0.1337 - accuracy: 0.9418\n",
      "Epoch 270/300\n",
      "7232/7232 [==============================] - 1s 89us/step - loss: 0.1335 - accuracy: 0.9401\n",
      "Epoch 271/300\n",
      "7232/7232 [==============================] - 1s 75us/step - loss: 0.1299 - accuracy: 0.9428\n",
      "Epoch 272/300\n",
      "7232/7232 [==============================] - 0s 55us/step - loss: 0.1340 - accuracy: 0.9410\n",
      "Epoch 273/300\n",
      "7232/7232 [==============================] - 0s 66us/step - loss: 0.1328 - accuracy: 0.9415\n",
      "Epoch 274/300\n",
      "7232/7232 [==============================] - 0s 59us/step - loss: 0.1310 - accuracy: 0.9432\n",
      "Epoch 275/300\n",
      "7232/7232 [==============================] - 0s 48us/step - loss: 0.1329 - accuracy: 0.9410\n",
      "Epoch 276/300\n",
      "7232/7232 [==============================] - 0s 61us/step - loss: 0.1373 - accuracy: 0.9403\n",
      "Epoch 277/300\n",
      "7232/7232 [==============================] - 0s 65us/step - loss: 0.1357 - accuracy: 0.9401\n",
      "Epoch 278/300\n",
      "7232/7232 [==============================] - 0s 59us/step - loss: 0.1352 - accuracy: 0.9378\n",
      "Epoch 279/300\n",
      "7232/7232 [==============================] - 0s 67us/step - loss: 0.1358 - accuracy: 0.9419\n",
      "Epoch 280/300\n",
      "7232/7232 [==============================] - 0s 60us/step - loss: 0.1328 - accuracy: 0.9412\n",
      "Epoch 281/300\n",
      "7232/7232 [==============================] - 0s 62us/step - loss: 0.1347 - accuracy: 0.9408\n",
      "Epoch 282/300\n",
      "7232/7232 [==============================] - 0s 68us/step - loss: 0.1318 - accuracy: 0.9432\n",
      "Epoch 283/300\n",
      "7232/7232 [==============================] - 0s 69us/step - loss: 0.1330 - accuracy: 0.9407\n",
      "Epoch 284/300\n",
      "7232/7232 [==============================] - 0s 64us/step - loss: 0.1352 - accuracy: 0.9376\n",
      "Epoch 285/300\n",
      "7232/7232 [==============================] - 0s 66us/step - loss: 0.1317 - accuracy: 0.9422\n",
      "Epoch 286/300\n",
      "7232/7232 [==============================] - 1s 73us/step - loss: 0.1333 - accuracy: 0.9430\n",
      "Epoch 287/300\n",
      "7232/7232 [==============================] - 0s 62us/step - loss: 0.1358 - accuracy: 0.9379\n",
      "Epoch 288/300\n",
      "7232/7232 [==============================] - 0s 54us/step - loss: 0.1363 - accuracy: 0.9401\n",
      "Epoch 289/300\n",
      "7232/7232 [==============================] - 0s 63us/step - loss: 0.1307 - accuracy: 0.9403\n",
      "Epoch 290/300\n",
      "7232/7232 [==============================] - 0s 61us/step - loss: 0.1339 - accuracy: 0.9411\n",
      "Epoch 291/300\n",
      "7232/7232 [==============================] - 0s 62us/step - loss: 0.1308 - accuracy: 0.9411\n",
      "Epoch 292/300\n",
      "7232/7232 [==============================] - 0s 67us/step - loss: 0.1315 - accuracy: 0.9423\n",
      "Epoch 293/300\n",
      "7232/7232 [==============================] - 1s 72us/step - loss: 0.1326 - accuracy: 0.9432\n",
      "Epoch 294/300\n",
      "7232/7232 [==============================] - 1s 82us/step - loss: 0.1318 - accuracy: 0.9434\n",
      "Epoch 295/300\n",
      "7232/7232 [==============================] - 1s 70us/step - loss: 0.1402 - accuracy: 0.9382\n",
      "Epoch 296/300\n",
      "7232/7232 [==============================] - 1s 96us/step - loss: 0.1364 - accuracy: 0.9393\n",
      "Epoch 297/300\n",
      "7232/7232 [==============================] - 0s 66us/step - loss: 0.1303 - accuracy: 0.9411\n",
      "Epoch 298/300\n",
      "7232/7232 [==============================] - 0s 61us/step - loss: 0.1310 - accuracy: 0.9418\n",
      "Epoch 299/300\n",
      "7232/7232 [==============================] - 0s 64us/step - loss: 0.1310 - accuracy: 0.9441\n",
      "Epoch 300/300\n",
      "7232/7232 [==============================] - 0s 63us/step - loss: 0.1313 - accuracy: 0.9404\n"
     ]
    },
    {
     "data": {
      "text/plain": [
       "<keras.callbacks.callbacks.History at 0x222cfdd4248>"
      ]
     },
     "execution_count": 111,
     "metadata": {},
     "output_type": "execute_result"
    }
   ],
   "source": [
    "model.fit(X_train,Y_train,epochs=300)"
   ]
  },
  {
   "cell_type": "code",
   "execution_count": 112,
   "metadata": {},
   "outputs": [],
   "source": [
    "Y_pred_nn = model.predict(X_test)"
   ]
  },
  {
   "cell_type": "code",
   "execution_count": 113,
   "metadata": {},
   "outputs": [
    {
     "data": {
      "text/plain": [
       "(1808, 1)"
      ]
     },
     "execution_count": 113,
     "metadata": {},
     "output_type": "execute_result"
    }
   ],
   "source": [
    "Y_pred_nn.shape"
   ]
  },
  {
   "cell_type": "code",
   "execution_count": 114,
   "metadata": {},
   "outputs": [],
   "source": [
    "rounded = [round(x[0]) for x in Y_pred_nn]\n",
    "\n",
    "Y_pred_nn = rounded"
   ]
  },
  {
   "cell_type": "code",
   "execution_count": 115,
   "metadata": {},
   "outputs": [
    {
     "name": "stdout",
     "output_type": "stream",
     "text": [
      "The accuracy score achieved using Neural Network is: 93.64 %\n"
     ]
    }
   ],
   "source": [
    "score_nn = round(accuracy_score(Y_pred_nn,Y_test)*100,2)\n",
    "\n",
    "print(\"The accuracy score achieved using Neural Network is: \"+str(score_nn)+\" %\")"
   ]
  },
  {
   "cell_type": "code",
   "execution_count": 116,
   "metadata": {},
   "outputs": [
    {
     "data": {
      "text/plain": [
       "array([[824,  67],\n",
       "       [ 48, 869]], dtype=int64)"
      ]
     },
     "execution_count": 116,
     "metadata": {},
     "output_type": "execute_result"
    }
   ],
   "source": [
    "confusion_matrix(Y_test,Y_pred_nn)"
   ]
  },
  {
   "cell_type": "code",
   "execution_count": 117,
   "metadata": {},
   "outputs": [
    {
     "name": "stdout",
     "output_type": "stream",
     "text": [
      "              precision    recall  f1-score   support\n",
      "\n",
      "         0.0       0.92      0.94      0.93       872\n",
      "         1.0       0.95      0.93      0.94       936\n",
      "\n",
      "    accuracy                           0.94      1808\n",
      "   macro avg       0.94      0.94      0.94      1808\n",
      "weighted avg       0.94      0.94      0.94      1808\n",
      "\n"
     ]
    }
   ],
   "source": [
    "print(classification_report(Y_pred_nn,Y_test))"
   ]
  },
  {
   "cell_type": "code",
   "execution_count": 118,
   "metadata": {},
   "outputs": [
    {
     "name": "stdout",
     "output_type": "stream",
     "text": [
      "The accuracy score achieved using Logistic Regression is: 88.66 %\n",
      "The accuracy score achieved using Naive Bayes is: 87.22 %\n",
      "The accuracy score achieved using K-Nearest Neighbors is: 91.26 %\n",
      "The accuracy score achieved using Decision Tree is: 98.29 %\n",
      "The accuracy score achieved using Random Forest is: 98.45 %\n",
      "The accuracy score achieved using XGBoost is: 98.95 %\n",
      "The accuracy score achieved using Neural Network is: 93.64 %\n"
     ]
    }
   ],
   "source": [
    "scores = [score_lr,score_nb,score_knn,score_dt,score_rf,score_xgb,score_nn]\n",
    "\n",
    "algorithms = [\"Logistic Regression\",\"Naive Bayes\",\"K-Nearest Neighbors\",\"Decision Tree\",\"Random Forest\",\"XGBoost\",\"Neural Network\"]    \n",
    "\n",
    "for i in range(len(algorithms)):\n",
    "    print(\"The accuracy score achieved using \"+algorithms[i]+\" is: \"+str(scores[i])+\" %\")"
   ]
  },
  {
   "cell_type": "code",
   "execution_count": 122,
   "metadata": {},
   "outputs": [
    {
     "data": {
      "image/png": "[encoded data removed]",
      "text/plain": [
       "<Figure size 1080x360 with 1 Axes>"
      ]
     },
     "metadata": {},
     "output_type": "display_data"
    }
   ],
   "source": [
    "sns.barplot(x=algorithms,y=scores)\n",
    "plt.rcParams['figure.figsize'] = (15, 5)\n",
    "plt.grid(True)"
   ]
  },
  {
   "cell_type": "code",
   "execution_count": 120,
   "metadata": {},
   "outputs": [
    {
     "name": "stdout",
     "output_type": "stream",
     "text": [
      "OrderedDict([('Decision Tree', 98.29), ('K Nearest Neighbors', 91.26), ('Logistic Regression', 88.66), ('Naive Bayes', 87.22), ('Neural Network', 93.64), ('Random Forest', 98.45), ('XGBoost', 98.95)])\n"
     ]
    }
   ],
   "source": [
    "from collections import OrderedDict \n",
    "dict = {'Logistic Regression':score_lr,'Naive Bayes':score_nb,'K Nearest Neighbors':score_knn,'Decision Tree':score_dt,'Random Forest':score_rf,'XGBoost':score_xgb,'Neural Network':score_nn} \n",
    "dict1 = OrderedDict(sorted(dict.items())) \n",
    "print(dict1) "
   ]
  },
  {
   "cell_type": "markdown",
   "metadata": {},
   "source": [
    "# SO XGBOOST MODEL GAVE US THE HIGHEST ACCURACY.."
   ]
  },
  {
   "cell_type": "code",
   "execution_count": 121,
   "metadata": {},
   "outputs": [],
   "source": [
    "#Here we saw that the accuracy of Logistic Regression was very low so we can check the accuracy by hyperparameter tuning."
   ]
  },
  {
   "cell_type": "code",
   "execution_count": null,
   "metadata": {},
   "outputs": [],
   "source": []
  }
 ],
 "metadata": {
  "kernelspec": {
   "display_name": "Python 3",
   "language": "python",
   "name": "python3"
  },
  "language_info": {
   "codemirror_mode": {
    "name": "ipython",
    "version": 3
   },
   "file_extension": ".py",
   "mimetype": "text/x-python",
   "name": "python",
   "nbconvert_exporter": "python",
   "pygments_lexer": "ipython3",
   "version": "3.7.4"
  }
 },
 "nbformat": 4,
 "nbformat_minor": 2
}
